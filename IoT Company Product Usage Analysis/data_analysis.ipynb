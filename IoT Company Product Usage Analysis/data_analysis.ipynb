{
 "cells": [
  {
   "cell_type": "markdown",
   "metadata": {},
   "source": [
    "# Product Usage Analysis\n",
    "I conducted the data analytics project turing my time at a Finnish IOT logisstics startup. The main objective of the project was to provide an overview of data capabilities and how users are using the product."
   ]
  },
  {
   "cell_type": "markdown",
   "metadata": {},
   "source": [
    "Note: datasets used are not publicly available. "
   ]
  },
  {
   "cell_type": "code",
   "execution_count": 1,
   "metadata": {},
   "outputs": [],
   "source": [
    "import pandas as pd\n",
    "import numpy as np\n",
    "import seaborn as sns\n",
    "import matplotlib.pyplot as plt\n",
    "%matplotlib inline \n",
    "import datetime\n",
    "import re\n",
    "import ast\n",
    "import itertools"
   ]
  },
  {
   "cell_type": "markdown",
   "metadata": {},
   "source": [
    "# Data"
   ]
  },
  {
   "cell_type": "markdown",
   "metadata": {},
   "source": [
    "## Sensor Code"
   ]
  },
  {
   "cell_type": "code",
   "execution_count": 24,
   "metadata": {},
   "outputs": [
    {
     "data": {
      "text/html": [
       "<div>\n",
       "<style scoped>\n",
       "    .dataframe tbody tr th:only-of-type {\n",
       "        vertical-align: middle;\n",
       "    }\n",
       "\n",
       "    .dataframe tbody tr th {\n",
       "        vertical-align: top;\n",
       "    }\n",
       "\n",
       "    .dataframe thead th {\n",
       "        text-align: right;\n",
       "    }\n",
       "</style>\n",
       "<table border=\"1\" class=\"dataframe\">\n",
       "  <thead>\n",
       "    <tr style=\"text-align: right;\">\n",
       "      <th></th>\n",
       "      <th>sensor</th>\n",
       "      <th>metric</th>\n",
       "    </tr>\n",
       "  </thead>\n",
       "  <tbody>\n",
       "    <tr>\n",
       "      <th>0</th>\n",
       "      <td>0</td>\n",
       "      <td>temperature (C)</td>\n",
       "    </tr>\n",
       "    <tr>\n",
       "      <th>1</th>\n",
       "      <td>3</td>\n",
       "      <td>shock (g)</td>\n",
       "    </tr>\n",
       "    <tr>\n",
       "      <th>2</th>\n",
       "      <td>4</td>\n",
       "      <td>humidity (%)</td>\n",
       "    </tr>\n",
       "    <tr>\n",
       "      <th>3</th>\n",
       "      <td>5</td>\n",
       "      <td>ambient light (scale)</td>\n",
       "    </tr>\n",
       "    <tr>\n",
       "      <th>4</th>\n",
       "      <td>7</td>\n",
       "      <td>external temperature sensor (C)</td>\n",
       "    </tr>\n",
       "  </tbody>\n",
       "</table>\n",
       "</div>"
      ],
      "text/plain": [
       "   sensor                           metric\n",
       "0       0                  temperature (C)\n",
       "1       3                        shock (g)\n",
       "2       4                     humidity (%)\n",
       "3       5            ambient light (scale)\n",
       "4       7  external temperature sensor (C)"
      ]
     },
     "execution_count": 24,
     "metadata": {},
     "output_type": "execute_result"
    }
   ],
   "source": [
    "pd.DataFrame({'sensor': [0,3,4,5,7], 'metric': ['temperature (C)','shock (g)','humidity (%)'\\\n",
    "                                                , 'ambient light (scale)',\\\n",
    "                                                'external temperature sensor (C)']})"
   ]
  },
  {
   "cell_type": "markdown",
   "metadata": {},
   "source": [
    "## Loggers"
   ]
  },
  {
   "cell_type": "code",
   "execution_count": 7,
   "metadata": {},
   "outputs": [],
   "source": [
    "loggers = pd.read_csv('../Datasets/loggers.csv') \n",
    "loggers = loggers.loc[loggers['serial'] != 310072]\n",
    "loggers = loggers.loc[loggers['serial'] != 200078]"
   ]
  },
  {
   "cell_type": "markdown",
   "metadata": {},
   "source": [
    "## Measurements"
   ]
  },
  {
   "cell_type": "code",
   "execution_count": 12,
   "metadata": {},
   "outputs": [],
   "source": [
    "measurements = pd.read_csv('Datasets/measurements.csv')"
   ]
  },
  {
   "cell_type": "markdown",
   "metadata": {},
   "source": [
    "## Scan Events"
   ]
  },
  {
   "cell_type": "code",
   "execution_count": 10,
   "metadata": {},
   "outputs": [],
   "source": [
    "scanevents = pd.read_csv('../Datasets/scan_events.csv')"
   ]
  },
  {
   "cell_type": "code",
   "execution_count": 6,
   "metadata": {},
   "outputs": [
    {
     "data": {
      "text/plain": [
       "23557.0"
      ]
     },
     "execution_count": 6,
     "metadata": {},
     "output_type": "execute_result"
    }
   ],
   "source": [
    "scanevents['new_data'].max()"
   ]
  },
  {
   "cell_type": "markdown",
   "metadata": {},
   "source": [
    "## Teams"
   ]
  },
  {
   "cell_type": "code",
   "execution_count": 12,
   "metadata": {},
   "outputs": [],
   "source": [
    "teams = pd.read_csv('../Datasets/teams.csv')"
   ]
  },
  {
   "cell_type": "code",
   "execution_count": 13,
   "metadata": {},
   "outputs": [],
   "source": [
    "teams.loc[teams['team_name'] == 'Neveres dosis', 'team_name'] = 'Gepork'"
   ]
  },
  {
   "cell_type": "markdown",
   "metadata": {},
   "source": [
    "## Users"
   ]
  },
  {
   "cell_type": "code",
   "execution_count": 107,
   "metadata": {},
   "outputs": [],
   "source": [
    "users = pd.read_csv('Datasets/users.csv')"
   ]
  },
  {
   "cell_type": "markdown",
   "metadata": {},
   "source": [
    "## Alert Rules"
   ]
  },
  {
   "cell_type": "code",
   "execution_count": 871,
   "metadata": {},
   "outputs": [],
   "source": [
    "alertrules = pd.read_csv('Datasets/alert_rules.csv')"
   ]
  },
  {
   "cell_type": "markdown",
   "metadata": {},
   "source": [
    "## Alert Hits"
   ]
  },
  {
   "cell_type": "code",
   "execution_count": 271,
   "metadata": {},
   "outputs": [],
   "source": [
    "alerthits = pd.read_csv('Datasets/alert_hits.csv')"
   ]
  },
  {
   "cell_type": "markdown",
   "metadata": {},
   "source": [
    "## Missions"
   ]
  },
  {
   "cell_type": "code",
   "execution_count": 4,
   "metadata": {},
   "outputs": [],
   "source": [
    "missions = pd.read_csv('../Datasets/missions.csv')\n",
    "missions['starts_at'] = pd.to_datetime(missions['starts_at'])\n",
    "missions['ends_at'] = pd.to_datetime(missions['ends_at'])"
   ]
  },
  {
   "cell_type": "code",
   "execution_count": 5,
   "metadata": {},
   "outputs": [],
   "source": [
    "# Deleting Test team and Test team 2\n",
    "missions = missions.loc[missions['logger_id'] != 'ObjectId(5ce267cfb6861a003076acc4)']\n",
    "missions = missions.loc[missions['logger_id'] != 'ObjectId(5cdc1b668fcb36002dc54f56)']"
   ]
  },
  {
   "cell_type": "code",
   "execution_count": 6,
   "metadata": {},
   "outputs": [],
   "source": [
    "missions['mission_duration_in_hours'] = missions['mission_duration_in_secs'] / 3600.0"
   ]
  },
  {
   "cell_type": "markdown",
   "metadata": {},
   "source": [
    "## Loggers x Measurements"
   ]
  },
  {
   "cell_type": "code",
   "execution_count": 446,
   "metadata": {},
   "outputs": [],
   "source": [
    "loggers_measurements = loggers.merge(measurements, how = 'inner', left_on = '_id', right_on = 'logger_id')\\\n",
    ".drop(columns = ['_id_y', 'logger_id']).rename(columns = {'_id_x':'logger_id'})"
   ]
  },
  {
   "cell_type": "markdown",
   "metadata": {},
   "source": [
    "## Loggers x Scan Events"
   ]
  },
  {
   "cell_type": "code",
   "execution_count": 447,
   "metadata": {},
   "outputs": [],
   "source": [
    "loggers_scanevents = loggers.merge(scanevents, how = 'inner',\\\n",
    "                    left_on = '_id', right_on = 'logger_id')"
   ]
  },
  {
   "cell_type": "code",
   "execution_count": 448,
   "metadata": {},
   "outputs": [],
   "source": [
    "loggers_scanevents = loggers_scanevents.drop(columns = 'logger_id')\\\n",
    ".rename(columns = {'_id_x':'logger_id', '_id_y':'scan_id'})"
   ]
  },
  {
   "cell_type": "code",
   "execution_count": 449,
   "metadata": {},
   "outputs": [],
   "source": [
    "loggers_scanevents['created_at'] = pd.to_datetime(loggers_scanevents['created_at'])\n",
    "loggers_scanevents = loggers_scanevents.sort_values(by = ['created_at'])"
   ]
  },
  {
   "cell_type": "markdown",
   "metadata": {},
   "source": [
    "## Loggers x Teams"
   ]
  },
  {
   "cell_type": "code",
   "execution_count": 7,
   "metadata": {},
   "outputs": [],
   "source": [
    "loggers_teams = loggers.merge(teams, how = 'inner', left_on = 'owner_id', right_on = '_id')\n",
    "loggers_teams = loggers_teams.rename(columns = {'_id_x':'logger_id', '_id_y':'team_id'})"
   ]
  },
  {
   "cell_type": "markdown",
   "metadata": {},
   "source": [
    "### Loggers x Teams x Measurements"
   ]
  },
  {
   "cell_type": "code",
   "execution_count": 974,
   "metadata": {},
   "outputs": [],
   "source": [
    "loggers_teams_measurements = loggers_measurements.merge(teams, how = 'inner', left_on = 'owner_id', right_on = '_id')"
   ]
  },
  {
   "cell_type": "code",
   "execution_count": 975,
   "metadata": {},
   "outputs": [],
   "source": [
    "loggers_teams_measurements = loggers_teams_measurements.drop(columns = ['_id'])"
   ]
  },
  {
   "cell_type": "markdown",
   "metadata": {},
   "source": [
    "## Loggers x Teams x Scan Events"
   ]
  },
  {
   "cell_type": "code",
   "execution_count": 11,
   "metadata": {},
   "outputs": [],
   "source": [
    "loggers_teams_scanevents = loggers_teams.merge(scanevents, how = 'inner', on = 'logger_id').drop(columns = ['owner_id', 'created_at_x', '_id'])\\\n",
    "                            .rename(columns = {'created_at_y':'scanned_at'})\n",
    "loggers_teams_scanevents['scanned_at'] = pd.to_datetime(loggers_teams_scanevents['scanned_at'])\n"
   ]
  },
  {
   "cell_type": "markdown",
   "metadata": {},
   "source": [
    "## Loggers x Missions"
   ]
  },
  {
   "cell_type": "code",
   "execution_count": 8,
   "metadata": {},
   "outputs": [],
   "source": [
    "loggers_missions = loggers.merge(missions, how = 'inner', left_on = '_id', right_on = 'logger_id')"
   ]
  },
  {
   "cell_type": "code",
   "execution_count": 9,
   "metadata": {},
   "outputs": [],
   "source": [
    "loggers_missions = loggers_missions.drop(columns = 'logger_id').rename(columns = {'_id':'logger_id', 'name':'mission_name'})"
   ]
  },
  {
   "cell_type": "code",
   "execution_count": 10,
   "metadata": {},
   "outputs": [],
   "source": [
    "loggers_missions = loggers_missions.loc[(loggers_missions['mission_duration_in_hours'] > 0.16) & (loggers_missions['mission_duration_in_hours'] < 8670)]"
   ]
  },
  {
   "cell_type": "markdown",
   "metadata": {},
   "source": [
    "## Loggers x Missions x Teams"
   ]
  },
  {
   "cell_type": "code",
   "execution_count": 14,
   "metadata": {},
   "outputs": [],
   "source": [
    "loggers_missions_teams = loggers_missions.merge(teams, how = 'inner', left_on = 'owner_id', right_on = '_id')\\\n",
    ".drop(columns = ['_id', 'created_at_y', 'permissions_y', 'permissions_x']).rename(columns = {'created_at_x':'mission_created_at'\\\n",
    "                                                                                , 'name':'mission_name'})"
   ]
  },
  {
   "cell_type": "code",
   "execution_count": 22,
   "metadata": {},
   "outputs": [
    {
     "data": {
      "text/plain": [
       "142"
      ]
     },
     "execution_count": 22,
     "metadata": {},
     "output_type": "execute_result"
    }
   ],
   "source": [
    "len(loggers_missions.loc[loggers_missions['owner_id'] == 'ObjectId(5bb30fbf2669ca1a890025ac)']['mission_id'].unique())\n",
    "#_teams.loc[loggers_missions_teams['team_name'] == 'MagnumMedical']"
   ]
  },
  {
   "cell_type": "markdown",
   "metadata": {},
   "source": [
    "## Loggers x Alert Hits"
   ]
  },
  {
   "cell_type": "code",
   "execution_count": 452,
   "metadata": {},
   "outputs": [],
   "source": [
    "loggers_alerthits = loggers.merge(alerthits, how = 'inner', left_on = '_id', right_on = 'logger_id')"
   ]
  },
  {
   "cell_type": "code",
   "execution_count": 453,
   "metadata": {},
   "outputs": [],
   "source": [
    "loggers_alerthits = loggers_alerthits.drop(columns = ['_id_y', 'logger_id',]).rename(columns = {'_id_x':'logger_id'})"
   ]
  },
  {
   "cell_type": "code",
   "execution_count": 454,
   "metadata": {},
   "outputs": [],
   "source": [
    "loggers_alerthits['ts'] = pd.to_datetime(loggers_alerthits['ts'])"
   ]
  },
  {
   "cell_type": "code",
   "execution_count": 455,
   "metadata": {},
   "outputs": [],
   "source": [
    "loggers_alerthits = loggers_alerthits.sort_values(by = 'ts')"
   ]
  },
  {
   "cell_type": "markdown",
   "metadata": {},
   "source": [
    "## Loggers x Alert Hits x Alert Rules"
   ]
  },
  {
   "cell_type": "code",
   "execution_count": 924,
   "metadata": {},
   "outputs": [],
   "source": [
    "loggers_alerthits_alertrules = loggers_alerthits.merge(alertrules, how = 'left', left_on = 'rule_id', right_on = '_id')"
   ]
  },
  {
   "cell_type": "code",
   "execution_count": 925,
   "metadata": {},
   "outputs": [],
   "source": [
    "loggers_alerthits_alertrules = loggers_alerthits_alertrules.drop(columns = ['_id', 'sensor_y']).rename(columns = {'sensor_x':'sensor'})"
   ]
  },
  {
   "cell_type": "markdown",
   "metadata": {},
   "source": [
    "# Analysis"
   ]
  },
  {
   "cell_type": "markdown",
   "metadata": {},
   "source": [
    "# Measurements"
   ]
  },
  {
   "cell_type": "markdown",
   "metadata": {},
   "source": [
    "### Count of Measurements by Sensor"
   ]
  },
  {
   "cell_type": "code",
   "execution_count": 456,
   "metadata": {},
   "outputs": [],
   "source": [
    "measurements_count = loggers_measurements['sensor'].value_counts()\\\n",
    "                    .to_frame().rename(columns={'sensor':'count'})"
   ]
  },
  {
   "cell_type": "code",
   "execution_count": 457,
   "metadata": {},
   "outputs": [],
   "source": [
    "measurements_count.index = ['temperature (C)', 'ambient light (scale)', 'humidity (%)', 'shock (g)']"
   ]
  },
  {
   "cell_type": "code",
   "execution_count": 650,
   "metadata": {},
   "outputs": [
    {
     "data": {
      "text/html": [
       "<div>\n",
       "<style scoped>\n",
       "    .dataframe tbody tr th:only-of-type {\n",
       "        vertical-align: middle;\n",
       "    }\n",
       "\n",
       "    .dataframe tbody tr th {\n",
       "        vertical-align: top;\n",
       "    }\n",
       "\n",
       "    .dataframe thead th {\n",
       "        text-align: right;\n",
       "    }\n",
       "</style>\n",
       "<table border=\"1\" class=\"dataframe\">\n",
       "  <thead>\n",
       "    <tr style=\"text-align: right;\">\n",
       "      <th></th>\n",
       "      <th>count</th>\n",
       "      <th>mean</th>\n",
       "      <th>min</th>\n",
       "      <th>max</th>\n",
       "      <th>std</th>\n",
       "    </tr>\n",
       "  </thead>\n",
       "  <tbody>\n",
       "    <tr>\n",
       "      <th>temperature (C)</th>\n",
       "      <td>15862535</td>\n",
       "      <td>14.317138</td>\n",
       "      <td>-30.0</td>\n",
       "      <td>80.000000</td>\n",
       "      <td>8.516959</td>\n",
       "    </tr>\n",
       "    <tr>\n",
       "      <th>ambient light (scale)</th>\n",
       "      <td>2145299</td>\n",
       "      <td>67.939571</td>\n",
       "      <td>0.0</td>\n",
       "      <td>15000.000000</td>\n",
       "      <td>653.375233</td>\n",
       "    </tr>\n",
       "    <tr>\n",
       "      <th>humidity (%)</th>\n",
       "      <td>1470670</td>\n",
       "      <td>38.561184</td>\n",
       "      <td>1.0</td>\n",
       "      <td>100.000000</td>\n",
       "      <td>18.257025</td>\n",
       "    </tr>\n",
       "    <tr>\n",
       "      <th>shock (g)</th>\n",
       "      <td>6574</td>\n",
       "      <td>7.934549</td>\n",
       "      <td>0.9</td>\n",
       "      <td>27.655198</td>\n",
       "      <td>5.320642</td>\n",
       "    </tr>\n",
       "  </tbody>\n",
       "</table>\n",
       "</div>"
      ],
      "text/plain": [
       "                          count       mean   min           max         std\n",
       "temperature (C)        15862535  14.317138 -30.0     80.000000    8.516959\n",
       "ambient light (scale)   2145299  67.939571   0.0  15000.000000  653.375233\n",
       "humidity (%)            1470670  38.561184   1.0    100.000000   18.257025\n",
       "shock (g)                  6574   7.934549   0.9     27.655198    5.320642"
      ]
     },
     "execution_count": 650,
     "metadata": {},
     "output_type": "execute_result"
    }
   ],
   "source": [
    "measurements_count"
   ]
  },
  {
   "cell_type": "code",
   "execution_count": 970,
   "metadata": {},
   "outputs": [
    {
     "data": {
      "image/png": "[encoded data removed]",
      "text/plain": [
       "<Figure size 576x720 with 1 Axes>"
      ]
     },
     "metadata": {},
     "output_type": "display_data"
    }
   ],
   "source": [
    "fig1, ax1 = plt.subplots()\n",
    "ax1.pie(measurements_count['count'].to_list(), labels=measurements_count.index.to_list(), autopct='%1.1f%%', shadow=True)\n",
    "ax1.axis('equal')\n",
    "ax1.set(title=\"Distribution of Measurements\")\n",
    "plt.rcParams['font.size'] = 15\n",
    "plt.show()"
   ]
  },
  {
   "cell_type": "markdown",
   "metadata": {},
   "source": [
    "### Count of Measurements by Logger"
   ]
  },
  {
   "cell_type": "code",
   "execution_count": 655,
   "metadata": {},
   "outputs": [],
   "source": [
    "measurements_count_by_logger = loggers_measurements['logger_id'].value_counts()"
   ]
  },
  {
   "cell_type": "code",
   "execution_count": 949,
   "metadata": {},
   "outputs": [
    {
     "data": {
      "text/plain": [
       "count      2100.000000\n",
       "mean       9278.608571\n",
       "std       18186.543472\n",
       "min           1.000000\n",
       "25%         396.250000\n",
       "50%        2547.500000\n",
       "75%        9668.000000\n",
       "max      177660.000000\n",
       "Name: logger_id, dtype: float64"
      ]
     },
     "execution_count": 949,
     "metadata": {},
     "output_type": "execute_result"
    }
   ],
   "source": [
    "measurements_count_by_logger.describe()"
   ]
  },
  {
   "cell_type": "code",
   "execution_count": 950,
   "metadata": {},
   "outputs": [
    {
     "data": {
      "image/png": "[encoded data removed]",
      "text/plain": [
       "<Figure size 720x720 with 1 Axes>"
      ]
     },
     "metadata": {},
     "output_type": "display_data"
    }
   ],
   "source": [
    "fig, ax = plt.subplots(figsize=(10,10))\n",
    "ax.hist(measurements_count_by_logger, bins=50, color=\"skyblue\");"
   ]
  },
  {
   "cell_type": "markdown",
   "metadata": {},
   "source": [
    "### Count of Measurements by Team"
   ]
  },
  {
   "cell_type": "code",
   "execution_count": 978,
   "metadata": {},
   "outputs": [],
   "source": [
    "measurements_by_team = loggers_teams_measurements['team_name'].value_counts()"
   ]
  },
  {
   "cell_type": "code",
   "execution_count": 979,
   "metadata": {
    "scrolled": true
   },
   "outputs": [
    {
     "data": {
      "text/plain": [
       "Fazer Leipomot Oy                     3395435\n",
       "Gepork                                2031826\n",
       "Budbee                                 952107\n",
       "Loggs Oy                               921167\n",
       "Suomen Talotekniikka Jyväskylä         787337\n",
       "Helsinginktk                           323527\n",
       "ABB Oy Distribution Solution Vaasa     296254\n",
       "ABB Drives                             279472\n",
       "Kesko Oyj                              261546\n",
       "Bmlv WSM                               261512\n",
       "Name: team_name, dtype: int64"
      ]
     },
     "execution_count": 979,
     "metadata": {},
     "output_type": "execute_result"
    }
   ],
   "source": [
    "measurements_by_team.head(10)"
   ]
  },
  {
   "cell_type": "code",
   "execution_count": 980,
   "metadata": {},
   "outputs": [
    {
     "data": {
      "image/png": "[encoded data removed]",
      "text/plain": [
       "<Figure size 576x720 with 1 Axes>"
      ]
     },
     "metadata": {},
     "output_type": "display_data"
    }
   ],
   "source": [
    "fig1, ax1 = plt.subplots()\n",
    "ax1.pie(measurements_by_team.head(10).to_list(), labels=measurements_by_team.head(10).index.to_list(), autopct='%1.1f%%', shadow=True)\n",
    "ax1.axis('equal')\n",
    "ax1.set(title=\"Distribution of Measurements by Team\")\n",
    "plt.show()"
   ]
  },
  {
   "cell_type": "markdown",
   "metadata": {},
   "source": [
    "### Count of Measurements by Month"
   ]
  },
  {
   "cell_type": "code",
   "execution_count": 35,
   "metadata": {},
   "outputs": [],
   "source": [
    "def month(date):\n",
    "    return date[0:7]"
   ]
  },
  {
   "cell_type": "code",
   "execution_count": 487,
   "metadata": {},
   "outputs": [],
   "source": [
    "measurements_date = loggers_measurements['ts'].apply(month)"
   ]
  },
  {
   "cell_type": "code",
   "execution_count": 488,
   "metadata": {},
   "outputs": [],
   "source": [
    "measurements_days = pd.to_datetime(loggers_measurements['ts']).dt.strftime('%Y-%m')"
   ]
  },
  {
   "cell_type": "code",
   "execution_count": 489,
   "metadata": {},
   "outputs": [],
   "source": [
    "measurements_months = measurements_days.value_counts()"
   ]
  },
  {
   "cell_type": "code",
   "execution_count": 490,
   "metadata": {},
   "outputs": [],
   "source": [
    "measurements_by_month = measurements_months\\\n",
    "                        .to_frame().rename(columns = {'ts':'measurements'})"
   ]
  },
  {
   "cell_type": "code",
   "execution_count": 491,
   "metadata": {},
   "outputs": [],
   "source": [
    "measurements_by_month['month'] = measurements_by_month.index"
   ]
  },
  {
   "cell_type": "code",
   "execution_count": 492,
   "metadata": {},
   "outputs": [],
   "source": [
    "measurements_by_month = measurements_by_month.sort_values(by = ['month'])"
   ]
  },
  {
   "cell_type": "code",
   "execution_count": 493,
   "metadata": {},
   "outputs": [
    {
     "data": {
      "text/html": [
       "<div>\n",
       "<style scoped>\n",
       "    .dataframe tbody tr th:only-of-type {\n",
       "        vertical-align: middle;\n",
       "    }\n",
       "\n",
       "    .dataframe tbody tr th {\n",
       "        vertical-align: top;\n",
       "    }\n",
       "\n",
       "    .dataframe thead th {\n",
       "        text-align: right;\n",
       "    }\n",
       "</style>\n",
       "<table border=\"1\" class=\"dataframe\">\n",
       "  <thead>\n",
       "    <tr style=\"text-align: right;\">\n",
       "      <th></th>\n",
       "      <th>measurements</th>\n",
       "      <th>month</th>\n",
       "    </tr>\n",
       "  </thead>\n",
       "  <tbody>\n",
       "    <tr>\n",
       "      <th>2020-02</th>\n",
       "      <td>2598294</td>\n",
       "      <td>2020-02</td>\n",
       "    </tr>\n",
       "    <tr>\n",
       "      <th>2020-01</th>\n",
       "      <td>2408488</td>\n",
       "      <td>2020-01</td>\n",
       "    </tr>\n",
       "    <tr>\n",
       "      <th>2020-03</th>\n",
       "      <td>2393986</td>\n",
       "      <td>2020-03</td>\n",
       "    </tr>\n",
       "    <tr>\n",
       "      <th>2019-12</th>\n",
       "      <td>2234171</td>\n",
       "      <td>2019-12</td>\n",
       "    </tr>\n",
       "    <tr>\n",
       "      <th>2019-11</th>\n",
       "      <td>1928769</td>\n",
       "      <td>2019-11</td>\n",
       "    </tr>\n",
       "    <tr>\n",
       "      <th>2019-10</th>\n",
       "      <td>1914181</td>\n",
       "      <td>2019-10</td>\n",
       "    </tr>\n",
       "    <tr>\n",
       "      <th>2020-05</th>\n",
       "      <td>1837720</td>\n",
       "      <td>2020-05</td>\n",
       "    </tr>\n",
       "    <tr>\n",
       "      <th>2019-09</th>\n",
       "      <td>1437661</td>\n",
       "      <td>2019-09</td>\n",
       "    </tr>\n",
       "    <tr>\n",
       "      <th>2020-04</th>\n",
       "      <td>1237942</td>\n",
       "      <td>2020-04</td>\n",
       "    </tr>\n",
       "    <tr>\n",
       "      <th>2019-08</th>\n",
       "      <td>963321</td>\n",
       "      <td>2019-08</td>\n",
       "    </tr>\n",
       "    <tr>\n",
       "      <th>2019-07</th>\n",
       "      <td>377504</td>\n",
       "      <td>2019-07</td>\n",
       "    </tr>\n",
       "    <tr>\n",
       "      <th>2019-06</th>\n",
       "      <td>98914</td>\n",
       "      <td>2019-06</td>\n",
       "    </tr>\n",
       "    <tr>\n",
       "      <th>2019-05</th>\n",
       "      <td>49995</td>\n",
       "      <td>2019-05</td>\n",
       "    </tr>\n",
       "    <tr>\n",
       "      <th>2019-04</th>\n",
       "      <td>4132</td>\n",
       "      <td>2019-04</td>\n",
       "    </tr>\n",
       "  </tbody>\n",
       "</table>\n",
       "</div>"
      ],
      "text/plain": [
       "         measurements    month\n",
       "2020-02       2598294  2020-02\n",
       "2020-01       2408488  2020-01\n",
       "2020-03       2393986  2020-03\n",
       "2019-12       2234171  2019-12\n",
       "2019-11       1928769  2019-11\n",
       "2019-10       1914181  2019-10\n",
       "2020-05       1837720  2020-05\n",
       "2019-09       1437661  2019-09\n",
       "2020-04       1237942  2020-04\n",
       "2019-08        963321  2019-08\n",
       "2019-07        377504  2019-07\n",
       "2019-06         98914  2019-06\n",
       "2019-05         49995  2019-05\n",
       "2019-04          4132  2019-04"
      ]
     },
     "execution_count": 493,
     "metadata": {},
     "output_type": "execute_result"
    }
   ],
   "source": [
    "measurements_by_month.sort_values(by = 'measurements', ascending = False)"
   ]
  },
  {
   "cell_type": "code",
   "execution_count": 813,
   "metadata": {},
   "outputs": [
    {
     "data": {
      "text/plain": [
       "<seaborn.axisgrid.FacetGrid at 0x1f7f329320>"
      ]
     },
     "execution_count": 813,
     "metadata": {},
     "output_type": "execute_result"
    },
    {
     "data": {
      "image/png": "[encoded data removed]",
      "text/plain": [
       "<Figure size 576x576 with 1 Axes>"
      ]
     },
     "metadata": {},
     "output_type": "display_data"
    }
   ],
   "source": [
    "months_graph = sns.relplot(x = 'month', y = \"measurements\", kind = 'line', data = measurements_by_month, height=8)\n",
    "\n",
    "for axes in months_graph.axes.flat:\n",
    "    axes.set_xticklabels(axes.get_xticklabels(), rotation=65, horizontalalignment='right')\n",
    "\n",
    "plt.title('Measurements Taken by Month')\n",
    "months_graph.set(xlabel='Month of Year', ylabel='Number of Measurements')"
   ]
  },
  {
   "cell_type": "markdown",
   "metadata": {},
   "source": [
    "## General Measurements Statistics\n",
    "\n",
    "### Temperature"
   ]
  },
  {
   "cell_type": "code",
   "execution_count": 494,
   "metadata": {},
   "outputs": [],
   "source": [
    "temp_stats = loggers_measurements.loc[loggers_measurements['sensor'] == 0]['val']"
   ]
  },
  {
   "cell_type": "code",
   "execution_count": 495,
   "metadata": {},
   "outputs": [
    {
     "data": {
      "text/plain": [
       "count    1.586254e+07\n",
       "mean     1.431714e+01\n",
       "std      8.516959e+00\n",
       "min     -3.000000e+01\n",
       "25%      6.400000e+00\n",
       "50%      1.720000e+01\n",
       "75%      2.080000e+01\n",
       "max      8.000000e+01\n",
       "Name: val, dtype: float64"
      ]
     },
     "execution_count": 495,
     "metadata": {},
     "output_type": "execute_result"
    }
   ],
   "source": [
    "temp_stats.describe() "
   ]
  },
  {
   "cell_type": "code",
   "execution_count": 695,
   "metadata": {},
   "outputs": [
    {
     "data": {
      "text/plain": [
       "{'whiskers': [<matplotlib.lines.Line2D at 0x1f063026a0>,\n",
       "  <matplotlib.lines.Line2D at 0x1e878629b0>],\n",
       " 'caps': [<matplotlib.lines.Line2D at 0x1e87862d30>,\n",
       "  <matplotlib.lines.Line2D at 0x1e87862e48>],\n",
       " 'boxes': [<matplotlib.lines.Line2D at 0x1e87862198>],\n",
       " 'medians': [<matplotlib.lines.Line2D at 0x1e8786d470>],\n",
       " 'fliers': [<matplotlib.lines.Line2D at 0x1e8786d7f0>],\n",
       " 'means': []}"
      ]
     },
     "execution_count": 695,
     "metadata": {},
     "output_type": "execute_result"
    },
    {
     "data": {
      "image/png": "[encoded data removed]",
      "text/plain": [
       "<Figure size 576x432 with 1 Axes>"
      ]
     },
     "metadata": {},
     "output_type": "display_data"
    }
   ],
   "source": [
    "red_square = dict(markerfacecolor='r', marker='s')\n",
    "fig1, ax1 = plt.subplots()\n",
    "fig1.set_size_inches(8, 6, forward=True)\n",
    "ax1.set_title('Temperature Distribution')\n",
    "ax1.set_xlabel('Temperature (C)')\n",
    "ax1.boxplot(temp_stats, flierprops=red_square, vert=False, whis=0.75)"
   ]
  },
  {
   "cell_type": "markdown",
   "metadata": {},
   "source": [
    "### Shock"
   ]
  },
  {
   "cell_type": "code",
   "execution_count": 496,
   "metadata": {},
   "outputs": [],
   "source": [
    "shock_stats = loggers_measurements.loc[loggers_measurements['sensor'] == 3]['val']"
   ]
  },
  {
   "cell_type": "code",
   "execution_count": 497,
   "metadata": {},
   "outputs": [
    {
     "data": {
      "text/plain": [
       "count    6574.000000\n",
       "mean        7.934549\n",
       "std         5.320642\n",
       "min         0.900000\n",
       "25%         3.721559\n",
       "50%         6.590903\n",
       "75%        10.036309\n",
       "max        27.655198\n",
       "Name: val, dtype: float64"
      ]
     },
     "execution_count": 497,
     "metadata": {},
     "output_type": "execute_result"
    }
   ],
   "source": [
    "shock_stats.describe()"
   ]
  },
  {
   "cell_type": "code",
   "execution_count": 697,
   "metadata": {},
   "outputs": [
    {
     "data": {
      "text/plain": [
       "{'whiskers': [<matplotlib.lines.Line2D at 0x1f0a8cd160>,\n",
       "  <matplotlib.lines.Line2D at 0x1f0a8ed470>],\n",
       " 'caps': [<matplotlib.lines.Line2D at 0x1f0a8ed7f0>,\n",
       "  <matplotlib.lines.Line2D at 0x1f0a8edb70>],\n",
       " 'boxes': [<matplotlib.lines.Line2D at 0x1f0a8ddc18>],\n",
       " 'medians': [<matplotlib.lines.Line2D at 0x1f0a8edef0>],\n",
       " 'fliers': [<matplotlib.lines.Line2D at 0x1f0a8ede80>],\n",
       " 'means': []}"
      ]
     },
     "execution_count": 697,
     "metadata": {},
     "output_type": "execute_result"
    },
    {
     "data": {
      "image/png": "[encoded data removed]",
      "text/plain": [
       "<Figure size 576x432 with 1 Axes>"
      ]
     },
     "metadata": {},
     "output_type": "display_data"
    }
   ],
   "source": [
    "fig1, ax1 = plt.subplots()\n",
    "fig1.set_size_inches(8, 6, forward=True)\n",
    "ax1.set_title('Shock Distribution')\n",
    "ax1.set_xlabel('Shock (g)')\n",
    "ax1.boxplot(shock_stats, flierprops=red_square, vert=False, whis=0.75)"
   ]
  },
  {
   "cell_type": "markdown",
   "metadata": {},
   "source": [
    "### Humidity"
   ]
  },
  {
   "cell_type": "code",
   "execution_count": 498,
   "metadata": {},
   "outputs": [],
   "source": [
    "humidity_stats = loggers_measurements.loc[loggers_measurements['sensor'] == 4]['val']"
   ]
  },
  {
   "cell_type": "code",
   "execution_count": 499,
   "metadata": {
    "scrolled": true
   },
   "outputs": [
    {
     "data": {
      "text/plain": [
       "count    1.470670e+06\n",
       "mean     3.856118e+01\n",
       "std      1.825702e+01\n",
       "min      1.000000e+00\n",
       "25%      2.500000e+01\n",
       "50%      3.700000e+01\n",
       "75%      4.900000e+01\n",
       "max      1.000000e+02\n",
       "Name: val, dtype: float64"
      ]
     },
     "execution_count": 499,
     "metadata": {},
     "output_type": "execute_result"
    }
   ],
   "source": [
    "humidity_stats.describe()"
   ]
  },
  {
   "cell_type": "code",
   "execution_count": 698,
   "metadata": {},
   "outputs": [
    {
     "data": {
      "text/plain": [
       "{'whiskers': [<matplotlib.lines.Line2D at 0x1f080988d0>,\n",
       "  <matplotlib.lines.Line2D at 0x1f0a942ef0>],\n",
       " 'caps': [<matplotlib.lines.Line2D at 0x1f9a92d630>,\n",
       "  <matplotlib.lines.Line2D at 0x1f9a92d9b0>],\n",
       " 'boxes': [<matplotlib.lines.Line2D at 0x1f0a942a58>],\n",
       " 'medians': [<matplotlib.lines.Line2D at 0x1f9a92dd30>],\n",
       " 'fliers': [<matplotlib.lines.Line2D at 0x1f9a92de48>],\n",
       " 'means': []}"
      ]
     },
     "execution_count": 698,
     "metadata": {},
     "output_type": "execute_result"
    },
    {
     "data": {
      "image/png": "[encoded data removed]",
      "text/plain": [
       "<Figure size 576x432 with 1 Axes>"
      ]
     },
     "metadata": {},
     "output_type": "display_data"
    }
   ],
   "source": [
    "fig1, ax1 = plt.subplots()\n",
    "fig1.set_size_inches(8, 6, forward=True)\n",
    "ax1.set_title('Humidity Distribution')\n",
    "ax1.set_xlabel('Humidity (%)')\n",
    "ax1.boxplot(humidity_stats, flierprops=red_square, vert=False, whis=0.75)"
   ]
  },
  {
   "cell_type": "markdown",
   "metadata": {},
   "source": [
    "### Light"
   ]
  },
  {
   "cell_type": "code",
   "execution_count": 500,
   "metadata": {},
   "outputs": [],
   "source": [
    "light_stats = loggers_measurements.loc[loggers_measurements['sensor'] == 5]['val']"
   ]
  },
  {
   "cell_type": "code",
   "execution_count": 501,
   "metadata": {
    "scrolled": true
   },
   "outputs": [
    {
     "data": {
      "text/plain": [
       "count    2.145299e+06\n",
       "mean     6.793957e+01\n",
       "std      6.533752e+02\n",
       "min      0.000000e+00\n",
       "25%      0.000000e+00\n",
       "50%      0.000000e+00\n",
       "75%      1.000000e+00\n",
       "max      1.500000e+04\n",
       "Name: val, dtype: float64"
      ]
     },
     "execution_count": 501,
     "metadata": {},
     "output_type": "execute_result"
    }
   ],
   "source": [
    "light_stats.describe()"
   ]
  },
  {
   "cell_type": "code",
   "execution_count": 699,
   "metadata": {},
   "outputs": [
    {
     "data": {
      "text/plain": [
       "{'whiskers': [<matplotlib.lines.Line2D at 0x1f9a96d048>,\n",
       "  <matplotlib.lines.Line2D at 0x1f9a97eeb8>],\n",
       " 'caps': [<matplotlib.lines.Line2D at 0x1f9a98c4e0>,\n",
       "  <matplotlib.lines.Line2D at 0x1f9a98c860>],\n",
       " 'boxes': [<matplotlib.lines.Line2D at 0x1f9a97e908>],\n",
       " 'medians': [<matplotlib.lines.Line2D at 0x1f9a98cbe0>],\n",
       " 'fliers': [<matplotlib.lines.Line2D at 0x1f9a98cf60>],\n",
       " 'means': []}"
      ]
     },
     "execution_count": 699,
     "metadata": {},
     "output_type": "execute_result"
    },
    {
     "data": {
      "image/png": "[encoded data removed]",
      "text/plain": [
       "<Figure size 576x432 with 1 Axes>"
      ]
     },
     "metadata": {},
     "output_type": "display_data"
    }
   ],
   "source": [
    "fig1, ax1 = plt.subplots()\n",
    "fig1.set_size_inches(8, 6, forward=True)\n",
    "ax1.set_title('Light Distribution')\n",
    "ax1.set_xlabel('Light (scale)')\n",
    "ax1.boxplot(light_stats, flierprops=red_square, vert=False, whis=0.75)"
   ]
  },
  {
   "cell_type": "markdown",
   "metadata": {},
   "source": [
    "### Overall Value Satistics"
   ]
  },
  {
   "cell_type": "code",
   "execution_count": 700,
   "metadata": {},
   "outputs": [],
   "source": [
    "measurements_count['mean'] = [temp_stats.mean(), light_stats.mean(), humidity_stats.mean(), shock_stats.mean()]\n",
    "measurements_count['min'] = [temp_stats.min(), light_stats.min(), humidity_stats.min(), shock_stats.min()]\n",
    "measurements_count['max'] = [temp_stats.max(), light_stats.max(), humidity_stats.max(), shock_stats.max()]\n",
    "measurements_count['std'] = [temp_stats.std(), light_stats.std(), humidity_stats.std(), shock_stats.std()]"
   ]
  },
  {
   "cell_type": "code",
   "execution_count": 701,
   "metadata": {},
   "outputs": [
    {
     "data": {
      "text/html": [
       "<div>\n",
       "<style scoped>\n",
       "    .dataframe tbody tr th:only-of-type {\n",
       "        vertical-align: middle;\n",
       "    }\n",
       "\n",
       "    .dataframe tbody tr th {\n",
       "        vertical-align: top;\n",
       "    }\n",
       "\n",
       "    .dataframe thead th {\n",
       "        text-align: right;\n",
       "    }\n",
       "</style>\n",
       "<table border=\"1\" class=\"dataframe\">\n",
       "  <thead>\n",
       "    <tr style=\"text-align: right;\">\n",
       "      <th></th>\n",
       "      <th>count</th>\n",
       "      <th>mean</th>\n",
       "      <th>min</th>\n",
       "      <th>max</th>\n",
       "      <th>std</th>\n",
       "    </tr>\n",
       "  </thead>\n",
       "  <tbody>\n",
       "    <tr>\n",
       "      <th>temperature (C)</th>\n",
       "      <td>15862535</td>\n",
       "      <td>14.317138</td>\n",
       "      <td>-30.0</td>\n",
       "      <td>80.000000</td>\n",
       "      <td>8.516959</td>\n",
       "    </tr>\n",
       "    <tr>\n",
       "      <th>ambient light (scale)</th>\n",
       "      <td>2145299</td>\n",
       "      <td>67.939571</td>\n",
       "      <td>0.0</td>\n",
       "      <td>15000.000000</td>\n",
       "      <td>653.375233</td>\n",
       "    </tr>\n",
       "    <tr>\n",
       "      <th>humidity (%)</th>\n",
       "      <td>1470670</td>\n",
       "      <td>38.561184</td>\n",
       "      <td>1.0</td>\n",
       "      <td>100.000000</td>\n",
       "      <td>18.257025</td>\n",
       "    </tr>\n",
       "    <tr>\n",
       "      <th>shock (g)</th>\n",
       "      <td>6574</td>\n",
       "      <td>7.934549</td>\n",
       "      <td>0.9</td>\n",
       "      <td>27.655198</td>\n",
       "      <td>5.320642</td>\n",
       "    </tr>\n",
       "  </tbody>\n",
       "</table>\n",
       "</div>"
      ],
      "text/plain": [
       "                          count       mean   min           max         std\n",
       "temperature (C)        15862535  14.317138 -30.0     80.000000    8.516959\n",
       "ambient light (scale)   2145299  67.939571   0.0  15000.000000  653.375233\n",
       "humidity (%)            1470670  38.561184   1.0    100.000000   18.257025\n",
       "shock (g)                  6574   7.934549   0.9     27.655198    5.320642"
      ]
     },
     "execution_count": 701,
     "metadata": {},
     "output_type": "execute_result"
    }
   ],
   "source": [
    "measurements_count"
   ]
  },
  {
   "cell_type": "markdown",
   "metadata": {},
   "source": [
    "## Value Statistics by Logger"
   ]
  },
  {
   "cell_type": "code",
   "execution_count": 504,
   "metadata": {},
   "outputs": [],
   "source": [
    "pivot = loggers_measurements.loc[~loggers_measurements['val'].isnull()][['logger_id', 'sensor', 'val']]\n"
   ]
  },
  {
   "cell_type": "code",
   "execution_count": 505,
   "metadata": {},
   "outputs": [],
   "source": [
    "logger_pivot = pd.pivot_table(pivot, values = 'val', index = 'logger_id', columns = 'sensor', aggfunc=np.mean)"
   ]
  },
  {
   "cell_type": "code",
   "execution_count": 506,
   "metadata": {},
   "outputs": [],
   "source": [
    "logger_pivot['logger_id'] = logger_pivot.index"
   ]
  },
  {
   "cell_type": "markdown",
   "metadata": {},
   "source": [
    "### Temperature Plot"
   ]
  },
  {
   "cell_type": "code",
   "execution_count": 507,
   "metadata": {},
   "outputs": [
    {
     "data": {
      "text/plain": [
       "<matplotlib.lines.Line2D at 0x1a221cd588>"
      ]
     },
     "execution_count": 507,
     "metadata": {},
     "output_type": "execute_result"
    },
    {
     "data": {
      "image/png": "[encoded data removed]",
      "text/plain": [
       "<Figure size 576x720 with 1 Axes>"
      ]
     },
     "metadata": {},
     "output_type": "display_data"
    }
   ],
   "source": [
    "sns.set(rc={'figure.figsize':(8,10)})\n",
    "temp_den_plot = sns.distplot(logger_pivot[0], kde=True, bins=50)\n",
    "plt.title('Density of Mean Tempreature by Logger')\n",
    "temp_den_plot.set(xlabel='Temperature (C)', ylabel='Density')\n",
    "temp_den_plot.axvline(logger_pivot[0].mean(), color=\"red\")"
   ]
  },
  {
   "cell_type": "code",
   "execution_count": 508,
   "metadata": {},
   "outputs": [
    {
     "data": {
      "text/plain": [
       "count    2100.000000\n",
       "mean       18.331081\n",
       "std         6.548482\n",
       "min       -21.544556\n",
       "25%        15.822707\n",
       "50%        20.315994\n",
       "75%        21.953768\n",
       "max        57.557112\n",
       "Name: 0, dtype: float64"
      ]
     },
     "execution_count": 508,
     "metadata": {},
     "output_type": "execute_result"
    }
   ],
   "source": [
    "logger_pivot[0].describe()"
   ]
  },
  {
   "cell_type": "markdown",
   "metadata": {},
   "source": [
    "### Shock Plot"
   ]
  },
  {
   "cell_type": "code",
   "execution_count": 510,
   "metadata": {},
   "outputs": [
    {
     "data": {
      "text/plain": [
       "<matplotlib.lines.Line2D at 0x20ac77eac8>"
      ]
     },
     "execution_count": 510,
     "metadata": {},
     "output_type": "execute_result"
    },
    {
     "data": {
      "image/png": "[encoded data removed]",
      "text/plain": [
       "<Figure size 576x720 with 1 Axes>"
      ]
     },
     "metadata": {},
     "output_type": "display_data"
    }
   ],
   "source": [
    "sns.set(rc={'figure.figsize':(8,10)})\n",
    "shock_den_plot = sns.distplot(logger_pivot[3], kde=True, bins=50)\n",
    "plt.title('Density of Mean Shock by Logger')\n",
    "shock_den_plot.set(xlabel='Shock (g)', ylabel='Density')\n",
    "shock_den_plot.axvline(logger_pivot[3].mean(), color=\"red\")"
   ]
  },
  {
   "cell_type": "code",
   "execution_count": 511,
   "metadata": {},
   "outputs": [
    {
     "data": {
      "text/plain": [
       "count    274.000000\n",
       "mean      10.382018\n",
       "std        4.578290\n",
       "min        2.002498\n",
       "25%        7.264198\n",
       "50%       10.010072\n",
       "75%       12.818215\n",
       "max       27.482358\n",
       "Name: 3, dtype: float64"
      ]
     },
     "execution_count": 511,
     "metadata": {},
     "output_type": "execute_result"
    }
   ],
   "source": [
    "logger_pivot[3].describe()"
   ]
  },
  {
   "cell_type": "markdown",
   "metadata": {},
   "source": [
    "### Humidity Plot"
   ]
  },
  {
   "cell_type": "code",
   "execution_count": 512,
   "metadata": {},
   "outputs": [
    {
     "data": {
      "text/plain": [
       "<matplotlib.lines.Line2D at 0x1a250b3cf8>"
      ]
     },
     "execution_count": 512,
     "metadata": {},
     "output_type": "execute_result"
    },
    {
     "data": {
      "image/png": "[encoded data removed]",
      "text/plain": [
       "<Figure size 576x720 with 1 Axes>"
      ]
     },
     "metadata": {},
     "output_type": "display_data"
    }
   ],
   "source": [
    "sns.set(rc={'figure.figsize':(8,10)})\n",
    "hum_den_plot = sns.distplot(logger_pivot[4], kde=True, bins=50)\n",
    "plt.title('Density of Mean Humidity by Logger')\n",
    "hum_den_plot.set(xlabel='Humidity (%)', ylabel='Density')\n",
    "hum_den_plot.axvline(logger_pivot[4].mean(), color=\"red\")"
   ]
  },
  {
   "cell_type": "code",
   "execution_count": 513,
   "metadata": {},
   "outputs": [
    {
     "data": {
      "text/plain": [
       "count    498.000000\n",
       "mean      37.172017\n",
       "std       14.792448\n",
       "min        3.233324\n",
       "25%       27.169006\n",
       "50%       36.673071\n",
       "75%       46.000000\n",
       "max       82.378395\n",
       "Name: 4, dtype: float64"
      ]
     },
     "execution_count": 513,
     "metadata": {},
     "output_type": "execute_result"
    }
   ],
   "source": [
    "logger_pivot[4].describe()"
   ]
  },
  {
   "cell_type": "markdown",
   "metadata": {},
   "source": [
    "### Light Plot"
   ]
  },
  {
   "cell_type": "code",
   "execution_count": 514,
   "metadata": {},
   "outputs": [
    {
     "data": {
      "text/plain": [
       "<matplotlib.lines.Line2D at 0x1a250c4588>"
      ]
     },
     "execution_count": 514,
     "metadata": {},
     "output_type": "execute_result"
    },
    {
     "data": {
      "image/png": "[encoded data removed]",
      "text/plain": [
       "<Figure size 576x720 with 1 Axes>"
      ]
     },
     "metadata": {},
     "output_type": "display_data"
    }
   ],
   "source": [
    "sns.set(rc={'figure.figsize':(8,10)})\n",
    "light_den_plot = sns.distplot(logger_pivot[5], kde=True, bins=50)\n",
    "plt.title('Density of Mean Ambient Light by Logger')\n",
    "light_den_plot.set(xlabel='Ambient Light', ylabel='Density')\n",
    "light_den_plot.axvline(logger_pivot[5].mean(), color=\"red\")"
   ]
  },
  {
   "cell_type": "code",
   "execution_count": 515,
   "metadata": {},
   "outputs": [
    {
     "data": {
      "text/plain": [
       "count     436.000000\n",
       "mean      283.669445\n",
       "std       669.573334\n",
       "min         0.209460\n",
       "25%        21.124398\n",
       "50%        83.223537\n",
       "75%       300.000000\n",
       "max      5864.909977\n",
       "Name: 5, dtype: float64"
      ]
     },
     "execution_count": 515,
     "metadata": {},
     "output_type": "execute_result"
    }
   ],
   "source": [
    "logger_pivot[5].describe()"
   ]
  },
  {
   "cell_type": "markdown",
   "metadata": {},
   "source": [
    "# Loggers"
   ]
  },
  {
   "cell_type": "markdown",
   "metadata": {},
   "source": [
    "### Count of Loggers Used by Clients"
   ]
  },
  {
   "cell_type": "code",
   "execution_count": 814,
   "metadata": {},
   "outputs": [
    {
     "data": {
      "text/plain": [
       "4618"
      ]
     },
     "execution_count": 814,
     "metadata": {},
     "output_type": "execute_result"
    }
   ],
   "source": [
    "len(loggers['_id'])"
   ]
  },
  {
   "cell_type": "markdown",
   "metadata": {},
   "source": [
    "### Logger Count by Model"
   ]
  },
  {
   "cell_type": "code",
   "execution_count": 517,
   "metadata": {},
   "outputs": [],
   "source": [
    "model_count = loggers['model'].value_counts()\n",
    "model_count = model_count.to_frame()"
   ]
  },
  {
   "cell_type": "code",
   "execution_count": 703,
   "metadata": {},
   "outputs": [
    {
     "data": {
      "text/html": [
       "<div>\n",
       "<style scoped>\n",
       "    .dataframe tbody tr th:only-of-type {\n",
       "        vertical-align: middle;\n",
       "    }\n",
       "\n",
       "    .dataframe tbody tr th {\n",
       "        vertical-align: top;\n",
       "    }\n",
       "\n",
       "    .dataframe thead th {\n",
       "        text-align: right;\n",
       "    }\n",
       "</style>\n",
       "<table border=\"1\" class=\"dataframe\">\n",
       "  <thead>\n",
       "    <tr style=\"text-align: right;\">\n",
       "      <th></th>\n",
       "      <th>model</th>\n",
       "    </tr>\n",
       "  </thead>\n",
       "  <tbody>\n",
       "    <tr>\n",
       "      <th>Model 2</th>\n",
       "      <td>2537</td>\n",
       "    </tr>\n",
       "    <tr>\n",
       "      <th>Model 3</th>\n",
       "      <td>1402</td>\n",
       "    </tr>\n",
       "    <tr>\n",
       "      <th>Model 1</th>\n",
       "      <td>679</td>\n",
       "    </tr>\n",
       "  </tbody>\n",
       "</table>\n",
       "</div>"
      ],
      "text/plain": [
       "         model\n",
       "Model 2   2537\n",
       "Model 3   1402\n",
       "Model 1    679"
      ]
     },
     "execution_count": 703,
     "metadata": {},
     "output_type": "execute_result"
    }
   ],
   "source": [
    "model_count"
   ]
  },
  {
   "cell_type": "code",
   "execution_count": 702,
   "metadata": {},
   "outputs": [
    {
     "data": {
      "image/png": "[encoded data removed]",
      "text/plain": [
       "<Figure size 576x720 with 1 Axes>"
      ]
     },
     "metadata": {},
     "output_type": "display_data"
    }
   ],
   "source": [
    "fig1, ax1 = plt.subplots()\n",
    "ax1.pie(model_count['model'].to_list(), labels=model_count.index.to_list(), autopct='%1.1f%%', shadow=True)\n",
    "ax1.axis('equal')\n",
    "ax1.set(title=\"Distribution of Models\")\n",
    "plt.show()"
   ]
  },
  {
   "cell_type": "markdown",
   "metadata": {},
   "source": [
    "# Teams & Users"
   ]
  },
  {
   "cell_type": "markdown",
   "metadata": {},
   "source": [
    "### Loggers by Teams"
   ]
  },
  {
   "cell_type": "code",
   "execution_count": 981,
   "metadata": {},
   "outputs": [
    {
     "data": {
      "text/html": [
       "<style  type=\"text/css\" >\n",
       "    #T_cdaf70e2_a68d_11ea_be4d_acde48001122row0_col0 {\n",
       "            width:  10em;\n",
       "             height:  80%;\n",
       "            background:  linear-gradient(90deg,#d65f5f 100.0%, transparent 100.0%);\n",
       "        }    #T_cdaf70e2_a68d_11ea_be4d_acde48001122row1_col0 {\n",
       "            width:  10em;\n",
       "             height:  80%;\n",
       "            background:  linear-gradient(90deg,#d65f5f 54.5%, transparent 54.5%);\n",
       "        }    #T_cdaf70e2_a68d_11ea_be4d_acde48001122row2_col0 {\n",
       "            width:  10em;\n",
       "             height:  80%;\n",
       "            background:  linear-gradient(90deg,#d65f5f 34.5%, transparent 34.5%);\n",
       "        }    #T_cdaf70e2_a68d_11ea_be4d_acde48001122row3_col0 {\n",
       "            width:  10em;\n",
       "             height:  80%;\n",
       "            background:  linear-gradient(90deg,#d65f5f 18.6%, transparent 18.6%);\n",
       "        }    #T_cdaf70e2_a68d_11ea_be4d_acde48001122row4_col0 {\n",
       "            width:  10em;\n",
       "             height:  80%;\n",
       "            background:  linear-gradient(90deg,#d65f5f 16.3%, transparent 16.3%);\n",
       "        }    #T_cdaf70e2_a68d_11ea_be4d_acde48001122row5_col0 {\n",
       "            width:  10em;\n",
       "             height:  80%;\n",
       "            background:  linear-gradient(90deg,#d65f5f 12.5%, transparent 12.5%);\n",
       "        }    #T_cdaf70e2_a68d_11ea_be4d_acde48001122row6_col0 {\n",
       "            width:  10em;\n",
       "             height:  80%;\n",
       "            background:  linear-gradient(90deg,#d65f5f 12.5%, transparent 12.5%);\n",
       "        }    #T_cdaf70e2_a68d_11ea_be4d_acde48001122row7_col0 {\n",
       "            width:  10em;\n",
       "             height:  80%;\n",
       "            background:  linear-gradient(90deg,#d65f5f 9.1%, transparent 9.1%);\n",
       "        }    #T_cdaf70e2_a68d_11ea_be4d_acde48001122row8_col0 {\n",
       "            width:  10em;\n",
       "             height:  80%;\n",
       "            background:  linear-gradient(90deg,#d65f5f 7.6%, transparent 7.6%);\n",
       "        }    #T_cdaf70e2_a68d_11ea_be4d_acde48001122row9_col0 {\n",
       "            width:  10em;\n",
       "             height:  80%;\n",
       "        }</style><table id=\"T_cdaf70e2_a68d_11ea_be4d_acde48001122\" ><thead>    <tr>        <th class=\"blank level0\" ></th>        <th class=\"col_heading level0 col0\" >team_name</th>    </tr></thead><tbody>\n",
       "                <tr>\n",
       "                        <th id=\"T_cdaf70e2_a68d_11ea_be4d_acde48001122level0_row0\" class=\"row_heading level0 row0\" >Suomen Talotekniikka Jyväskylä</th>\n",
       "                        <td id=\"T_cdaf70e2_a68d_11ea_be4d_acde48001122row0_col0\" class=\"data row0 col0\" >286</td>\n",
       "            </tr>\n",
       "            <tr>\n",
       "                        <th id=\"T_cdaf70e2_a68d_11ea_be4d_acde48001122level0_row1\" class=\"row_heading level0 row1\" >Fazer Leipomot Oy</th>\n",
       "                        <td id=\"T_cdaf70e2_a68d_11ea_be4d_acde48001122row1_col0\" class=\"data row1 col0\" >166</td>\n",
       "            </tr>\n",
       "            <tr>\n",
       "                        <th id=\"T_cdaf70e2_a68d_11ea_be4d_acde48001122level0_row2\" class=\"row_heading level0 row2\" >Loggs Oy</th>\n",
       "                        <td id=\"T_cdaf70e2_a68d_11ea_be4d_acde48001122row2_col0\" class=\"data row2 col0\" >113</td>\n",
       "            </tr>\n",
       "            <tr>\n",
       "                        <th id=\"T_cdaf70e2_a68d_11ea_be4d_acde48001122level0_row3\" class=\"row_heading level0 row3\" >Schenker AG – Corporate Head Office</th>\n",
       "                        <td id=\"T_cdaf70e2_a68d_11ea_be4d_acde48001122row3_col0\" class=\"data row3 col0\" >71</td>\n",
       "            </tr>\n",
       "            <tr>\n",
       "                        <th id=\"T_cdaf70e2_a68d_11ea_be4d_acde48001122level0_row4\" class=\"row_heading level0 row4\" >Protogen</th>\n",
       "                        <td id=\"T_cdaf70e2_a68d_11ea_be4d_acde48001122row4_col0\" class=\"data row4 col0\" >65</td>\n",
       "            </tr>\n",
       "            <tr>\n",
       "                        <th id=\"T_cdaf70e2_a68d_11ea_be4d_acde48001122level0_row5\" class=\"row_heading level0 row5\" >ABB Drives</th>\n",
       "                        <td id=\"T_cdaf70e2_a68d_11ea_be4d_acde48001122row5_col0\" class=\"data row5 col0\" >55</td>\n",
       "            </tr>\n",
       "            <tr>\n",
       "                        <th id=\"T_cdaf70e2_a68d_11ea_be4d_acde48001122level0_row6\" class=\"row_heading level0 row6\" >ABB Oy Distribution Solution Vaasa</th>\n",
       "                        <td id=\"T_cdaf70e2_a68d_11ea_be4d_acde48001122row6_col0\" class=\"data row6 col0\" >55</td>\n",
       "            </tr>\n",
       "            <tr>\n",
       "                        <th id=\"T_cdaf70e2_a68d_11ea_be4d_acde48001122level0_row7\" class=\"row_heading level0 row7\" >Helsinginktk</th>\n",
       "                        <td id=\"T_cdaf70e2_a68d_11ea_be4d_acde48001122row7_col0\" class=\"data row7 col0\" >46</td>\n",
       "            </tr>\n",
       "            <tr>\n",
       "                        <th id=\"T_cdaf70e2_a68d_11ea_be4d_acde48001122level0_row8\" class=\"row_heading level0 row8\" >Budbee</th>\n",
       "                        <td id=\"T_cdaf70e2_a68d_11ea_be4d_acde48001122row8_col0\" class=\"data row8 col0\" >42</td>\n",
       "            </tr>\n",
       "            <tr>\n",
       "                        <th id=\"T_cdaf70e2_a68d_11ea_be4d_acde48001122level0_row9\" class=\"row_heading level0 row9\" >Fresh</th>\n",
       "                        <td id=\"T_cdaf70e2_a68d_11ea_be4d_acde48001122row9_col0\" class=\"data row9 col0\" >22</td>\n",
       "            </tr>\n",
       "    </tbody></table>"
      ],
      "text/plain": [
       "<pandas.io.formats.style.Styler at 0x1f7a99c9e8>"
      ]
     },
     "execution_count": 981,
     "metadata": {},
     "output_type": "execute_result"
    }
   ],
   "source": [
    "loggers_teams['team_name'].value_counts()\\\n",
    "[:10].to_frame().style.bar()"
   ]
  },
  {
   "cell_type": "markdown",
   "metadata": {},
   "source": [
    "# Scan Events"
   ]
  },
  {
   "cell_type": "markdown",
   "metadata": {},
   "source": [
    "loggers_scanevents "
   ]
  },
  {
   "cell_type": "markdown",
   "metadata": {},
   "source": [
    "### Total Number Measurements Inserted with a Scan "
   ]
  },
  {
   "cell_type": "code",
   "execution_count": 520,
   "metadata": {},
   "outputs": [],
   "source": [
    "tot_data = loggers_scanevents['data_count'].describe()"
   ]
  },
  {
   "cell_type": "code",
   "execution_count": 521,
   "metadata": {},
   "outputs": [
    {
     "data": {
      "text/plain": [
       "count    48499.000000\n",
       "mean      1820.780758\n",
       "std       1988.566045\n",
       "min          1.000000\n",
       "25%        897.000000\n",
       "50%       1457.000000\n",
       "75%       2190.000000\n",
       "max      18148.000000\n",
       "Name: data_count, dtype: float64"
      ]
     },
     "execution_count": 521,
     "metadata": {},
     "output_type": "execute_result"
    }
   ],
   "source": [
    "tot_data"
   ]
  },
  {
   "cell_type": "markdown",
   "metadata": {},
   "source": [
    "### Number of New Measurements Inserted with a Scan "
   ]
  },
  {
   "cell_type": "code",
   "execution_count": 522,
   "metadata": {},
   "outputs": [],
   "source": [
    "new_data = loggers_scanevents['new_data']\n",
    "new_data = new_data.dropna().sort_values(ascending = False).describe()"
   ]
  },
  {
   "cell_type": "code",
   "execution_count": 704,
   "metadata": {},
   "outputs": [
    {
     "data": {
      "text/plain": [
       "count    42205.000000\n",
       "mean       499.591968\n",
       "std        836.224064\n",
       "min          1.000000\n",
       "25%         67.000000\n",
       "50%        284.000000\n",
       "75%        587.000000\n",
       "max      18148.000000\n",
       "Name: new_data, dtype: float64"
      ]
     },
     "execution_count": 704,
     "metadata": {},
     "output_type": "execute_result"
    }
   ],
   "source": [
    "new_data"
   ]
  },
  {
   "cell_type": "markdown",
   "metadata": {},
   "source": [
    "### Time Between Two Scans"
   ]
  },
  {
   "cell_type": "code",
   "execution_count": 719,
   "metadata": {},
   "outputs": [],
   "source": [
    "period_between_two_scans = (loggers_scanevents['created_at']-loggers_scanevents['created_at'].shift()).fillna(pd.Timedelta('0 days'))"
   ]
  },
  {
   "cell_type": "code",
   "execution_count": 720,
   "metadata": {},
   "outputs": [],
   "source": [
    "period_between_two_scans = period_between_two_scans.sort_values().to_frame().rename(columns = {'created_at':'period'})"
   ]
  },
  {
   "cell_type": "code",
   "execution_count": 723,
   "metadata": {},
   "outputs": [],
   "source": [
    "period_between_two_scans = period_between_two_scans.loc[period_between_two_scans['period'] > pd.Timedelta('0 days 00:00:01')]"
   ]
  },
  {
   "cell_type": "code",
   "execution_count": 724,
   "metadata": {},
   "outputs": [
    {
     "data": {
      "text/html": [
       "<div>\n",
       "<style scoped>\n",
       "    .dataframe tbody tr th:only-of-type {\n",
       "        vertical-align: middle;\n",
       "    }\n",
       "\n",
       "    .dataframe tbody tr th {\n",
       "        vertical-align: top;\n",
       "    }\n",
       "\n",
       "    .dataframe thead th {\n",
       "        text-align: right;\n",
       "    }\n",
       "</style>\n",
       "<table border=\"1\" class=\"dataframe\">\n",
       "  <thead>\n",
       "    <tr style=\"text-align: right;\">\n",
       "      <th></th>\n",
       "      <th>period</th>\n",
       "    </tr>\n",
       "  </thead>\n",
       "  <tbody>\n",
       "    <tr>\n",
       "      <th>count</th>\n",
       "      <td>47862</td>\n",
       "    </tr>\n",
       "    <tr>\n",
       "      <th>mean</th>\n",
       "      <td>0 days 00:11:40.366117</td>\n",
       "    </tr>\n",
       "    <tr>\n",
       "      <th>std</th>\n",
       "      <td>0 days 01:44:15.099758</td>\n",
       "    </tr>\n",
       "    <tr>\n",
       "      <th>min</th>\n",
       "      <td>0 days 00:00:01.002000</td>\n",
       "    </tr>\n",
       "    <tr>\n",
       "      <th>25%</th>\n",
       "      <td>0 days 00:00:20.488500</td>\n",
       "    </tr>\n",
       "    <tr>\n",
       "      <th>50%</th>\n",
       "      <td>0 days 00:01:14.510500</td>\n",
       "    </tr>\n",
       "    <tr>\n",
       "      <th>75%</th>\n",
       "      <td>0 days 00:04:43.281250</td>\n",
       "    </tr>\n",
       "    <tr>\n",
       "      <th>max</th>\n",
       "      <td>6 days 01:52:18.837000</td>\n",
       "    </tr>\n",
       "  </tbody>\n",
       "</table>\n",
       "</div>"
      ],
      "text/plain": [
       "                       period\n",
       "count                   47862\n",
       "mean   0 days 00:11:40.366117\n",
       "std    0 days 01:44:15.099758\n",
       "min    0 days 00:00:01.002000\n",
       "25%    0 days 00:00:20.488500\n",
       "50%    0 days 00:01:14.510500\n",
       "75%    0 days 00:04:43.281250\n",
       "max    6 days 01:52:18.837000"
      ]
     },
     "execution_count": 724,
     "metadata": {},
     "output_type": "execute_result"
    }
   ],
   "source": [
    "period_between_two_scans.describe()"
   ]
  },
  {
   "cell_type": "markdown",
   "metadata": {},
   "source": [
    "### Teams with Most Scans"
   ]
  },
  {
   "cell_type": "code",
   "execution_count": 15,
   "metadata": {},
   "outputs": [],
   "source": [
    "team_scans = loggers_teams_scanevents['team_name'].value_counts()[:10].to_frame()\\\n",
    "                        .rename(columns = {'team_name':'scans'})"
   ]
  },
  {
   "cell_type": "code",
   "execution_count": 14,
   "metadata": {
    "collapsed": true
   },
   "outputs": [
    {
     "data": {
      "text/plain": [
       "Fazer Leipomot Oy                                        8635\n",
       "Budbee                                                   7921\n",
       "Loggs Oy                                                 1995\n",
       "Neveres dosis                                            1815\n",
       "Suomen Talotekniikka Jyväskylä                           1632\n",
       "Apteekit                                                 1355\n",
       "ABB Oy Distribution Solution Vaasa                        746\n",
       "Helsinginktk                                              723\n",
       "MagnumMedical                                             465\n",
       "NiGK                                                      446\n",
       "Luvianapteekki                                            403\n",
       "Hoivatiimi                                                370\n",
       "Biotrans-usa                                              345\n",
       "ABB Drives                                                345\n",
       "HUS LOGISTIIKKA 2019                                      331\n",
       "Lawtons                                                   274\n",
       "Protogen                                                  251\n",
       "Schenker AG – Corporate Head Office                       240\n",
       "Juhala                                                    240\n",
       "2Cool Finland                                             197\n",
       "Vetimpex                                                  196\n",
       "Bmlv WSM                                                  193\n",
       "Neveres Magatzem                                          189\n",
       "Kesko Oyj                                                 185\n",
       "Mars Team 2                                               179\n",
       "Kirkkonummi                                               163\n",
       "Taidekaupunki                                             149\n",
       "MAP Medical Technologies Oy                               131\n",
       "Pielaveden Apteekki                                       110\n",
       "DHL Singapore                                             105\n",
       "                                                         ... \n",
       "Fonterra                                                   12\n",
       "Trelleborg Pipe Seals                                      12\n",
       "KRKA Finland Oy, Personal, Tarja Varpuhuhta #00007137      11\n",
       "Nigk_guest01                                               10\n",
       "World Courier Australia                                    10\n",
       "Fsoft                                                      10\n",
       "Cielvision                                                  9\n",
       "Krka                                                        9\n",
       "Lscancerdiag                                                9\n",
       "Chipters                                                    9\n",
       "Apobegijn_Logmore                                           8\n",
       "Finnforel                                                   8\n",
       "World Courier                                               7\n",
       "Siilinapteekki                                              6\n",
       "Naver                                                       5\n",
       "Sodankylän Apteekki, Marjo Rajamäki                         5\n",
       "Vesannon aptrekki                                           5\n",
       "Mediapteekki                                                5\n",
       "KRKA Finland Oy, Personal, Oula Outakoski #00007135         5\n",
       "KRKA Finland Oy, Personal, Riku Santahuhta #00007138        4\n",
       "Gmail                                                       4\n",
       "Ferrero                                                     4\n",
       "KRKA Finland Oy, Personal, Inari Koivunen #00007133         4\n",
       "Bluefors                                                    4\n",
       "Valio                                                       4\n",
       "KRKA Finland Oy, Personal, Sakari Mattinen #00007134        3\n",
       "Sensient mexico                                             3\n",
       "kyo                                                         3\n",
       "Myyrmanninapteekki                                          2\n",
       "Pirkkalan apteekki                                          2\n",
       "Name: team_name, Length: 111, dtype: int64"
      ]
     },
     "execution_count": 14,
     "metadata": {},
     "output_type": "execute_result"
    }
   ],
   "source": [
    "loggers_teams_scanevents['team_name'].value_counts()"
   ]
  },
  {
   "cell_type": "code",
   "execution_count": 983,
   "metadata": {},
   "outputs": [
    {
     "data": {
      "image/png": "[encoded data removed]",
      "text/plain": [
       "<Figure size 576x720 with 1 Axes>"
      ]
     },
     "metadata": {},
     "output_type": "display_data"
    }
   ],
   "source": [
    "fig1, ax1 = plt.subplots()\n",
    "ax1.pie(team_scans['scans'].to_list(), labels=team_scans.index.to_list(), autopct='%1.1f%%', shadow=True)\n",
    "ax1.axis('equal')\n",
    "ax1.set(title=\"Distribution of Companies by Number of Scans\")\n",
    "plt.show()"
   ]
  },
  {
   "cell_type": "markdown",
   "metadata": {},
   "source": [
    "### Time Between Two Scans by 5 Teams from Different Industries"
   ]
  },
  {
   "cell_type": "markdown",
   "metadata": {},
   "source": [
    "#### Fazer Leipomot Oy"
   ]
  },
  {
   "cell_type": "code",
   "execution_count": 528,
   "metadata": {},
   "outputs": [],
   "source": [
    "fazer = loggers_teams_scanevents.loc[loggers_teams_scanevents['team_name'] == 'Fazer Leipomot Oy']\\\n",
    "        .sort_values(by = ['scanned_at'])"
   ]
  },
  {
   "cell_type": "code",
   "execution_count": 529,
   "metadata": {},
   "outputs": [],
   "source": [
    "fazer_scanning = (fazer['scanned_at']-fazer['scanned_at'].shift()).fillna(pd.Timedelta('0 days'))"
   ]
  },
  {
   "cell_type": "markdown",
   "metadata": {},
   "source": [
    "##### How Frequently Fazer Leipomot Oy Scans One of Its Loggers"
   ]
  },
  {
   "cell_type": "code",
   "execution_count": 730,
   "metadata": {},
   "outputs": [],
   "source": [
    "fazer_period = fazer_scanning.sort_values().to_frame().rename(columns = {'scanned_at':'period'})"
   ]
  },
  {
   "cell_type": "code",
   "execution_count": 732,
   "metadata": {},
   "outputs": [],
   "source": [
    "fazer_period = fazer_period.loc[fazer_period['period'] > pd.Timedelta('0 days 00:00:01')]"
   ]
  },
  {
   "cell_type": "code",
   "execution_count": 734,
   "metadata": {},
   "outputs": [
    {
     "data": {
      "text/html": [
       "<div>\n",
       "<style scoped>\n",
       "    .dataframe tbody tr th:only-of-type {\n",
       "        vertical-align: middle;\n",
       "    }\n",
       "\n",
       "    .dataframe tbody tr th {\n",
       "        vertical-align: top;\n",
       "    }\n",
       "\n",
       "    .dataframe thead th {\n",
       "        text-align: right;\n",
       "    }\n",
       "</style>\n",
       "<table border=\"1\" class=\"dataframe\">\n",
       "  <thead>\n",
       "    <tr style=\"text-align: right;\">\n",
       "      <th></th>\n",
       "      <th>period</th>\n",
       "    </tr>\n",
       "  </thead>\n",
       "  <tbody>\n",
       "    <tr>\n",
       "      <th>count</th>\n",
       "      <td>8569</td>\n",
       "    </tr>\n",
       "    <tr>\n",
       "      <th>mean</th>\n",
       "      <td>0 days 00:53:26.336897</td>\n",
       "    </tr>\n",
       "    <tr>\n",
       "      <th>std</th>\n",
       "      <td>0 days 05:17:19.090114</td>\n",
       "    </tr>\n",
       "    <tr>\n",
       "      <th>min</th>\n",
       "      <td>0 days 00:00:01.053000</td>\n",
       "    </tr>\n",
       "    <tr>\n",
       "      <th>25%</th>\n",
       "      <td>0 days 00:01:52.830000</td>\n",
       "    </tr>\n",
       "    <tr>\n",
       "      <th>50%</th>\n",
       "      <td>0 days 00:06:12.733000</td>\n",
       "    </tr>\n",
       "    <tr>\n",
       "      <th>75%</th>\n",
       "      <td>0 days 00:15:52.974000</td>\n",
       "    </tr>\n",
       "    <tr>\n",
       "      <th>max</th>\n",
       "      <td>13 days 02:52:19.932000</td>\n",
       "    </tr>\n",
       "  </tbody>\n",
       "</table>\n",
       "</div>"
      ],
      "text/plain": [
       "                        period\n",
       "count                     8569\n",
       "mean    0 days 00:53:26.336897\n",
       "std     0 days 05:17:19.090114\n",
       "min     0 days 00:00:01.053000\n",
       "25%     0 days 00:01:52.830000\n",
       "50%     0 days 00:06:12.733000\n",
       "75%     0 days 00:15:52.974000\n",
       "max    13 days 02:52:19.932000"
      ]
     },
     "execution_count": 734,
     "metadata": {},
     "output_type": "execute_result"
    }
   ],
   "source": [
    "fazer_period.describe()"
   ]
  },
  {
   "cell_type": "markdown",
   "metadata": {},
   "source": [
    "##### How frequently Fazer Leipomot Oy Scans Its Most Scanned Logger"
   ]
  },
  {
   "cell_type": "code",
   "execution_count": 531,
   "metadata": {},
   "outputs": [],
   "source": [
    "f_best_logger_id = fazer['logger_id'].value_counts().index[0]\n",
    "f_best_logger = fazer.loc[fazer['logger_id'] == f_best_logger_id]\n",
    "f_best_logger_scanning = (f_best_logger['scanned_at']-f_best_logger['scanned_at'].shift()).fillna(pd.Timedelta('0 days'))"
   ]
  },
  {
   "cell_type": "code",
   "execution_count": 532,
   "metadata": {},
   "outputs": [],
   "source": [
    "limit = pd.Timedelta('0 days 00:05:00')"
   ]
  },
  {
   "cell_type": "code",
   "execution_count": 533,
   "metadata": {},
   "outputs": [],
   "source": [
    "f_best_logger_scanning = f_best_logger_scanning.to_frame().rename(columns = {'scanned_at':'period'})"
   ]
  },
  {
   "cell_type": "code",
   "execution_count": 534,
   "metadata": {},
   "outputs": [
    {
     "data": {
      "text/html": [
       "<div>\n",
       "<style scoped>\n",
       "    .dataframe tbody tr th:only-of-type {\n",
       "        vertical-align: middle;\n",
       "    }\n",
       "\n",
       "    .dataframe tbody tr th {\n",
       "        vertical-align: top;\n",
       "    }\n",
       "\n",
       "    .dataframe thead th {\n",
       "        text-align: right;\n",
       "    }\n",
       "</style>\n",
       "<table border=\"1\" class=\"dataframe\">\n",
       "  <thead>\n",
       "    <tr style=\"text-align: right;\">\n",
       "      <th></th>\n",
       "      <th>period</th>\n",
       "    </tr>\n",
       "  </thead>\n",
       "  <tbody>\n",
       "    <tr>\n",
       "      <th>count</th>\n",
       "      <td>279</td>\n",
       "    </tr>\n",
       "    <tr>\n",
       "      <th>mean</th>\n",
       "      <td>0 days 15:37:38.190670</td>\n",
       "    </tr>\n",
       "    <tr>\n",
       "      <th>std</th>\n",
       "      <td>0 days 19:06:22.872290</td>\n",
       "    </tr>\n",
       "    <tr>\n",
       "      <th>min</th>\n",
       "      <td>0 days 00:05:25.667000</td>\n",
       "    </tr>\n",
       "    <tr>\n",
       "      <th>25%</th>\n",
       "      <td>0 days 01:57:23.700000</td>\n",
       "    </tr>\n",
       "    <tr>\n",
       "      <th>50%</th>\n",
       "      <td>0 days 03:05:27.840000</td>\n",
       "    </tr>\n",
       "    <tr>\n",
       "      <th>75%</th>\n",
       "      <td>0 days 22:04:18.784500</td>\n",
       "    </tr>\n",
       "    <tr>\n",
       "      <th>max</th>\n",
       "      <td>7 days 20:00:43.514000</td>\n",
       "    </tr>\n",
       "  </tbody>\n",
       "</table>\n",
       "</div>"
      ],
      "text/plain": [
       "                       period\n",
       "count                     279\n",
       "mean   0 days 15:37:38.190670\n",
       "std    0 days 19:06:22.872290\n",
       "min    0 days 00:05:25.667000\n",
       "25%    0 days 01:57:23.700000\n",
       "50%    0 days 03:05:27.840000\n",
       "75%    0 days 22:04:18.784500\n",
       "max    7 days 20:00:43.514000"
      ]
     },
     "execution_count": 534,
     "metadata": {},
     "output_type": "execute_result"
    }
   ],
   "source": [
    "f_best_logger_scanning.loc[f_best_logger_scanning['period'] >= limit].describe()"
   ]
  },
  {
   "cell_type": "markdown",
   "metadata": {},
   "source": [
    "#### BudBee"
   ]
  },
  {
   "cell_type": "code",
   "execution_count": 535,
   "metadata": {},
   "outputs": [],
   "source": [
    "budbee = loggers_teams_scanevents.loc[loggers_teams_scanevents['team_name'] == 'Budbee']\\\n",
    "        .sort_values(by = ['scanned_at'])\n"
   ]
  },
  {
   "cell_type": "code",
   "execution_count": 536,
   "metadata": {},
   "outputs": [],
   "source": [
    "budbee_scanning = (budbee['scanned_at']-budbee['scanned_at'].shift()).fillna(pd.Timedelta('0 days'))\n"
   ]
  },
  {
   "cell_type": "markdown",
   "metadata": {},
   "source": [
    "##### How Frequently Budbee Scans One of Its Loggers"
   ]
  },
  {
   "cell_type": "code",
   "execution_count": 745,
   "metadata": {},
   "outputs": [],
   "source": [
    "budbee_period = budbee_scanning.to_frame().rename(columns = {'scanned_at':'period'})"
   ]
  },
  {
   "cell_type": "code",
   "execution_count": 746,
   "metadata": {},
   "outputs": [],
   "source": [
    "budbee_period = budbee_period.loc[budbee_period['period'] > pd.Timedelta('0 days 00:00:01')]"
   ]
  },
  {
   "cell_type": "code",
   "execution_count": 747,
   "metadata": {},
   "outputs": [
    {
     "data": {
      "text/html": [
       "<div>\n",
       "<style scoped>\n",
       "    .dataframe tbody tr th:only-of-type {\n",
       "        vertical-align: middle;\n",
       "    }\n",
       "\n",
       "    .dataframe tbody tr th {\n",
       "        vertical-align: top;\n",
       "    }\n",
       "\n",
       "    .dataframe thead th {\n",
       "        text-align: right;\n",
       "    }\n",
       "</style>\n",
       "<table border=\"1\" class=\"dataframe\">\n",
       "  <thead>\n",
       "    <tr style=\"text-align: right;\">\n",
       "      <th></th>\n",
       "      <th>period</th>\n",
       "    </tr>\n",
       "  </thead>\n",
       "  <tbody>\n",
       "    <tr>\n",
       "      <th>count</th>\n",
       "      <td>7836</td>\n",
       "    </tr>\n",
       "    <tr>\n",
       "      <th>mean</th>\n",
       "      <td>0 days 00:19:48.783476</td>\n",
       "    </tr>\n",
       "    <tr>\n",
       "      <th>std</th>\n",
       "      <td>0 days 03:14:44.461531</td>\n",
       "    </tr>\n",
       "    <tr>\n",
       "      <th>min</th>\n",
       "      <td>0 days 00:00:01.014000</td>\n",
       "    </tr>\n",
       "    <tr>\n",
       "      <th>25%</th>\n",
       "      <td>0 days 00:00:25.017500</td>\n",
       "    </tr>\n",
       "    <tr>\n",
       "      <th>50%</th>\n",
       "      <td>0 days 00:01:20.982000</td>\n",
       "    </tr>\n",
       "    <tr>\n",
       "      <th>75%</th>\n",
       "      <td>0 days 00:03:56.857000</td>\n",
       "    </tr>\n",
       "    <tr>\n",
       "      <th>max</th>\n",
       "      <td>4 days 17:23:31.630000</td>\n",
       "    </tr>\n",
       "  </tbody>\n",
       "</table>\n",
       "</div>"
      ],
      "text/plain": [
       "                       period\n",
       "count                    7836\n",
       "mean   0 days 00:19:48.783476\n",
       "std    0 days 03:14:44.461531\n",
       "min    0 days 00:00:01.014000\n",
       "25%    0 days 00:00:25.017500\n",
       "50%    0 days 00:01:20.982000\n",
       "75%    0 days 00:03:56.857000\n",
       "max    4 days 17:23:31.630000"
      ]
     },
     "execution_count": 747,
     "metadata": {},
     "output_type": "execute_result"
    }
   ],
   "source": [
    "budbee_period.describe()"
   ]
  },
  {
   "cell_type": "markdown",
   "metadata": {},
   "source": [
    "##### How frequently Budbee Scans Its Most Scanned Logger"
   ]
  },
  {
   "cell_type": "code",
   "execution_count": 538,
   "metadata": {},
   "outputs": [],
   "source": [
    "b_best_logger_id = budbee['logger_id'].value_counts().index[0]\n",
    "b_best_logger = budbee.loc[budbee['logger_id'] == b_best_logger_id]\n",
    "b_best_logger_scanning = (b_best_logger['scanned_at']-b_best_logger['scanned_at'].shift()).fillna(pd.Timedelta('0 days'))"
   ]
  },
  {
   "cell_type": "code",
   "execution_count": 539,
   "metadata": {},
   "outputs": [],
   "source": [
    "b_best_logger_scanning = b_best_logger_scanning.to_frame().rename(columns = {'scanned_at':'period'})"
   ]
  },
  {
   "cell_type": "code",
   "execution_count": 540,
   "metadata": {},
   "outputs": [
    {
     "data": {
      "text/html": [
       "<div>\n",
       "<style scoped>\n",
       "    .dataframe tbody tr th:only-of-type {\n",
       "        vertical-align: middle;\n",
       "    }\n",
       "\n",
       "    .dataframe tbody tr th {\n",
       "        vertical-align: top;\n",
       "    }\n",
       "\n",
       "    .dataframe thead th {\n",
       "        text-align: right;\n",
       "    }\n",
       "</style>\n",
       "<table border=\"1\" class=\"dataframe\">\n",
       "  <thead>\n",
       "    <tr style=\"text-align: right;\">\n",
       "      <th></th>\n",
       "      <th>period</th>\n",
       "    </tr>\n",
       "  </thead>\n",
       "  <tbody>\n",
       "    <tr>\n",
       "      <th>count</th>\n",
       "      <td>279</td>\n",
       "    </tr>\n",
       "    <tr>\n",
       "      <th>mean</th>\n",
       "      <td>0 days 09:00:31.300157</td>\n",
       "    </tr>\n",
       "    <tr>\n",
       "      <th>std</th>\n",
       "      <td>0 days 18:57:22.068860</td>\n",
       "    </tr>\n",
       "    <tr>\n",
       "      <th>min</th>\n",
       "      <td>0 days 00:05:02.581000</td>\n",
       "    </tr>\n",
       "    <tr>\n",
       "      <th>25%</th>\n",
       "      <td>0 days 00:46:15.912000</td>\n",
       "    </tr>\n",
       "    <tr>\n",
       "      <th>50%</th>\n",
       "      <td>0 days 01:58:39.585000</td>\n",
       "    </tr>\n",
       "    <tr>\n",
       "      <th>75%</th>\n",
       "      <td>0 days 06:35:11.869500</td>\n",
       "    </tr>\n",
       "    <tr>\n",
       "      <th>max</th>\n",
       "      <td>5 days 20:05:48.287000</td>\n",
       "    </tr>\n",
       "  </tbody>\n",
       "</table>\n",
       "</div>"
      ],
      "text/plain": [
       "                       period\n",
       "count                     279\n",
       "mean   0 days 09:00:31.300157\n",
       "std    0 days 18:57:22.068860\n",
       "min    0 days 00:05:02.581000\n",
       "25%    0 days 00:46:15.912000\n",
       "50%    0 days 01:58:39.585000\n",
       "75%    0 days 06:35:11.869500\n",
       "max    5 days 20:05:48.287000"
      ]
     },
     "execution_count": 540,
     "metadata": {},
     "output_type": "execute_result"
    }
   ],
   "source": [
    "b_best_logger_scanning.loc[b_best_logger_scanning['period'] >= limit].describe()"
   ]
  },
  {
   "cell_type": "markdown",
   "metadata": {},
   "source": [
    "### ABB"
   ]
  },
  {
   "cell_type": "code",
   "execution_count": 541,
   "metadata": {},
   "outputs": [],
   "source": [
    "abb = loggers_teams_scanevents.loc[loggers_teams_scanevents['team_name'].str.contains('ABB')].sort_values(by = ['scanned_at'])"
   ]
  },
  {
   "cell_type": "code",
   "execution_count": 542,
   "metadata": {},
   "outputs": [],
   "source": [
    "abb_scanning = (abb['scanned_at']-abb['scanned_at'].shift()).fillna(pd.Timedelta('0 days'))"
   ]
  },
  {
   "cell_type": "markdown",
   "metadata": {},
   "source": [
    "##### How Frequently ABB Scans One of Its Loggers"
   ]
  },
  {
   "cell_type": "code",
   "execution_count": 739,
   "metadata": {},
   "outputs": [],
   "source": [
    "abb_period = abb_scanning.to_frame().rename(columns = {'scanned_at':'period'})"
   ]
  },
  {
   "cell_type": "code",
   "execution_count": 749,
   "metadata": {},
   "outputs": [],
   "source": [
    "abb_period = abb_period.loc[abb_period['period'] > pd.Timedelta('0 days 00:00:01')]"
   ]
  },
  {
   "cell_type": "code",
   "execution_count": 750,
   "metadata": {},
   "outputs": [
    {
     "data": {
      "text/html": [
       "<div>\n",
       "<style scoped>\n",
       "    .dataframe tbody tr th:only-of-type {\n",
       "        vertical-align: middle;\n",
       "    }\n",
       "\n",
       "    .dataframe tbody tr th {\n",
       "        vertical-align: top;\n",
       "    }\n",
       "\n",
       "    .dataframe thead th {\n",
       "        text-align: right;\n",
       "    }\n",
       "</style>\n",
       "<table border=\"1\" class=\"dataframe\">\n",
       "  <thead>\n",
       "    <tr style=\"text-align: right;\">\n",
       "      <th></th>\n",
       "      <th>period</th>\n",
       "    </tr>\n",
       "  </thead>\n",
       "  <tbody>\n",
       "    <tr>\n",
       "      <th>count</th>\n",
       "      <td>1074</td>\n",
       "    </tr>\n",
       "    <tr>\n",
       "      <th>mean</th>\n",
       "      <td>0 days 06:15:08.967295</td>\n",
       "    </tr>\n",
       "    <tr>\n",
       "      <th>std</th>\n",
       "      <td>0 days 23:16:08.226840</td>\n",
       "    </tr>\n",
       "    <tr>\n",
       "      <th>min</th>\n",
       "      <td>0 days 00:00:01.050000</td>\n",
       "    </tr>\n",
       "    <tr>\n",
       "      <th>25%</th>\n",
       "      <td>0 days 00:00:17.881000</td>\n",
       "    </tr>\n",
       "    <tr>\n",
       "      <th>50%</th>\n",
       "      <td>0 days 00:01:17.797000</td>\n",
       "    </tr>\n",
       "    <tr>\n",
       "      <th>75%</th>\n",
       "      <td>0 days 00:35:20.583000</td>\n",
       "    </tr>\n",
       "    <tr>\n",
       "      <th>max</th>\n",
       "      <td>16 days 01:12:51.210000</td>\n",
       "    </tr>\n",
       "  </tbody>\n",
       "</table>\n",
       "</div>"
      ],
      "text/plain": [
       "                        period\n",
       "count                     1074\n",
       "mean    0 days 06:15:08.967295\n",
       "std     0 days 23:16:08.226840\n",
       "min     0 days 00:00:01.050000\n",
       "25%     0 days 00:00:17.881000\n",
       "50%     0 days 00:01:17.797000\n",
       "75%     0 days 00:35:20.583000\n",
       "max    16 days 01:12:51.210000"
      ]
     },
     "execution_count": 750,
     "metadata": {},
     "output_type": "execute_result"
    }
   ],
   "source": [
    "abb_period.describe()"
   ]
  },
  {
   "cell_type": "markdown",
   "metadata": {},
   "source": [
    "##### How frequently ABB Scans Its Most Scanned Logger"
   ]
  },
  {
   "cell_type": "code",
   "execution_count": 544,
   "metadata": {},
   "outputs": [],
   "source": [
    "a_best_logger_id = abb['logger_id'].value_counts().index[0]\n",
    "a_best_logger = abb.loc[abb['logger_id'] == a_best_logger_id]\n",
    "a_best_logger_scanning = (a_best_logger['scanned_at']-a_best_logger['scanned_at'].shift()).fillna(pd.Timedelta('0 days'))"
   ]
  },
  {
   "cell_type": "code",
   "execution_count": 545,
   "metadata": {},
   "outputs": [],
   "source": [
    "a_best_logger_scanning = a_best_logger_scanning.to_frame().rename(columns = {'scanned_at':'period'})"
   ]
  },
  {
   "cell_type": "code",
   "execution_count": 546,
   "metadata": {},
   "outputs": [
    {
     "data": {
      "text/html": [
       "<div>\n",
       "<style scoped>\n",
       "    .dataframe tbody tr th:only-of-type {\n",
       "        vertical-align: middle;\n",
       "    }\n",
       "\n",
       "    .dataframe tbody tr th {\n",
       "        vertical-align: top;\n",
       "    }\n",
       "\n",
       "    .dataframe thead th {\n",
       "        text-align: right;\n",
       "    }\n",
       "</style>\n",
       "<table border=\"1\" class=\"dataframe\">\n",
       "  <thead>\n",
       "    <tr style=\"text-align: right;\">\n",
       "      <th></th>\n",
       "      <th>period</th>\n",
       "    </tr>\n",
       "  </thead>\n",
       "  <tbody>\n",
       "    <tr>\n",
       "      <th>count</th>\n",
       "      <td>33</td>\n",
       "    </tr>\n",
       "    <tr>\n",
       "      <th>mean</th>\n",
       "      <td>7 days 05:06:42.643848</td>\n",
       "    </tr>\n",
       "    <tr>\n",
       "      <th>std</th>\n",
       "      <td>7 days 23:48:58.775830</td>\n",
       "    </tr>\n",
       "    <tr>\n",
       "      <th>min</th>\n",
       "      <td>0 days 00:07:10.453000</td>\n",
       "    </tr>\n",
       "    <tr>\n",
       "      <th>25%</th>\n",
       "      <td>1 days 00:07:32.573000</td>\n",
       "    </tr>\n",
       "    <tr>\n",
       "      <th>50%</th>\n",
       "      <td>3 days 21:22:43.532000</td>\n",
       "    </tr>\n",
       "    <tr>\n",
       "      <th>75%</th>\n",
       "      <td>12 days 19:33:53.532000</td>\n",
       "    </tr>\n",
       "    <tr>\n",
       "      <th>max</th>\n",
       "      <td>35 days 23:24:35.873000</td>\n",
       "    </tr>\n",
       "  </tbody>\n",
       "</table>\n",
       "</div>"
      ],
      "text/plain": [
       "                        period\n",
       "count                       33\n",
       "mean    7 days 05:06:42.643848\n",
       "std     7 days 23:48:58.775830\n",
       "min     0 days 00:07:10.453000\n",
       "25%     1 days 00:07:32.573000\n",
       "50%     3 days 21:22:43.532000\n",
       "75%    12 days 19:33:53.532000\n",
       "max    35 days 23:24:35.873000"
      ]
     },
     "execution_count": 546,
     "metadata": {},
     "output_type": "execute_result"
    }
   ],
   "source": [
    "a_best_logger_scanning.loc[a_best_logger_scanning['period'] >= limit].describe()"
   ]
  },
  {
   "cell_type": "markdown",
   "metadata": {},
   "source": [
    "### MagnumMedical"
   ]
  },
  {
   "cell_type": "code",
   "execution_count": 547,
   "metadata": {},
   "outputs": [],
   "source": [
    "magnum = loggers_teams_scanevents.loc[loggers_teams_scanevents['team_name'] =='MagnumMedical'].sort_values(by = ['scanned_at'])"
   ]
  },
  {
   "cell_type": "code",
   "execution_count": 548,
   "metadata": {},
   "outputs": [],
   "source": [
    "magnum_scanning = (magnum['scanned_at']-magnum['scanned_at'].shift()).fillna(pd.Timedelta('0 days'))"
   ]
  },
  {
   "cell_type": "markdown",
   "metadata": {},
   "source": [
    "##### How Frequently MagnumMedical Scans One of Its Loggers"
   ]
  },
  {
   "cell_type": "code",
   "execution_count": 751,
   "metadata": {},
   "outputs": [],
   "source": [
    "magnum_period = magnum_scanning.to_frame().rename(columns = {'scanned_at':'period'})"
   ]
  },
  {
   "cell_type": "code",
   "execution_count": 752,
   "metadata": {},
   "outputs": [],
   "source": [
    "magnum_period = magnum_period.loc[magnum_period['period'] > pd.Timedelta('0 days 00:00:01')]"
   ]
  },
  {
   "cell_type": "code",
   "execution_count": 753,
   "metadata": {},
   "outputs": [
    {
     "data": {
      "text/html": [
       "<div>\n",
       "<style scoped>\n",
       "    .dataframe tbody tr th:only-of-type {\n",
       "        vertical-align: middle;\n",
       "    }\n",
       "\n",
       "    .dataframe tbody tr th {\n",
       "        vertical-align: top;\n",
       "    }\n",
       "\n",
       "    .dataframe thead th {\n",
       "        text-align: right;\n",
       "    }\n",
       "</style>\n",
       "<table border=\"1\" class=\"dataframe\">\n",
       "  <thead>\n",
       "    <tr style=\"text-align: right;\">\n",
       "      <th></th>\n",
       "      <th>period</th>\n",
       "    </tr>\n",
       "  </thead>\n",
       "  <tbody>\n",
       "    <tr>\n",
       "      <th>count</th>\n",
       "      <td>463</td>\n",
       "    </tr>\n",
       "    <tr>\n",
       "      <th>mean</th>\n",
       "      <td>0 days 09:10:16.726900</td>\n",
       "    </tr>\n",
       "    <tr>\n",
       "      <th>std</th>\n",
       "      <td>0 days 19:29:48.687247</td>\n",
       "    </tr>\n",
       "    <tr>\n",
       "      <th>min</th>\n",
       "      <td>0 days 00:00:04.166000</td>\n",
       "    </tr>\n",
       "    <tr>\n",
       "      <th>25%</th>\n",
       "      <td>0 days 00:01:02.061000</td>\n",
       "    </tr>\n",
       "    <tr>\n",
       "      <th>50%</th>\n",
       "      <td>0 days 00:50:17.160000</td>\n",
       "    </tr>\n",
       "    <tr>\n",
       "      <th>75%</th>\n",
       "      <td>0 days 06:09:38.328500</td>\n",
       "    </tr>\n",
       "    <tr>\n",
       "      <th>max</th>\n",
       "      <td>6 days 01:06:46.653000</td>\n",
       "    </tr>\n",
       "  </tbody>\n",
       "</table>\n",
       "</div>"
      ],
      "text/plain": [
       "                       period\n",
       "count                     463\n",
       "mean   0 days 09:10:16.726900\n",
       "std    0 days 19:29:48.687247\n",
       "min    0 days 00:00:04.166000\n",
       "25%    0 days 00:01:02.061000\n",
       "50%    0 days 00:50:17.160000\n",
       "75%    0 days 06:09:38.328500\n",
       "max    6 days 01:06:46.653000"
      ]
     },
     "execution_count": 753,
     "metadata": {},
     "output_type": "execute_result"
    }
   ],
   "source": [
    "magnum_period.describe()"
   ]
  },
  {
   "cell_type": "markdown",
   "metadata": {},
   "source": [
    "##### How frequently MagnumMedica Scans Its Most Scanned Logger"
   ]
  },
  {
   "cell_type": "code",
   "execution_count": 550,
   "metadata": {},
   "outputs": [],
   "source": [
    "m_best_logger_id = magnum['logger_id'].value_counts().index[0]\n",
    "m_best_logger = magnum.loc[magnum['logger_id'] == m_best_logger_id]\n",
    "m_best_logger_scanning = (m_best_logger['scanned_at']-m_best_logger['scanned_at'].shift()).fillna(pd.Timedelta('0 days'))"
   ]
  },
  {
   "cell_type": "code",
   "execution_count": 551,
   "metadata": {},
   "outputs": [],
   "source": [
    "m_best_logger_scanning = m_best_logger_scanning.to_frame().rename(columns = {'scanned_at':'period'})"
   ]
  },
  {
   "cell_type": "code",
   "execution_count": 552,
   "metadata": {},
   "outputs": [
    {
     "data": {
      "text/html": [
       "<div>\n",
       "<style scoped>\n",
       "    .dataframe tbody tr th:only-of-type {\n",
       "        vertical-align: middle;\n",
       "    }\n",
       "\n",
       "    .dataframe tbody tr th {\n",
       "        vertical-align: top;\n",
       "    }\n",
       "\n",
       "    .dataframe thead th {\n",
       "        text-align: right;\n",
       "    }\n",
       "</style>\n",
       "<table border=\"1\" class=\"dataframe\">\n",
       "  <thead>\n",
       "    <tr style=\"text-align: right;\">\n",
       "      <th></th>\n",
       "      <th>period</th>\n",
       "    </tr>\n",
       "  </thead>\n",
       "  <tbody>\n",
       "    <tr>\n",
       "      <th>count</th>\n",
       "      <td>41</td>\n",
       "    </tr>\n",
       "    <tr>\n",
       "      <th>mean</th>\n",
       "      <td>4 days 01:12:12.039146</td>\n",
       "    </tr>\n",
       "    <tr>\n",
       "      <th>std</th>\n",
       "      <td>4 days 08:48:45.188493</td>\n",
       "    </tr>\n",
       "    <tr>\n",
       "      <th>min</th>\n",
       "      <td>0 days 01:46:15.252000</td>\n",
       "    </tr>\n",
       "    <tr>\n",
       "      <th>25%</th>\n",
       "      <td>0 days 19:56:06.126000</td>\n",
       "    </tr>\n",
       "    <tr>\n",
       "      <th>50%</th>\n",
       "      <td>1 days 23:46:49.863000</td>\n",
       "    </tr>\n",
       "    <tr>\n",
       "      <th>75%</th>\n",
       "      <td>7 days 00:10:53.409000</td>\n",
       "    </tr>\n",
       "    <tr>\n",
       "      <th>max</th>\n",
       "      <td>17 days 22:38:20.255000</td>\n",
       "    </tr>\n",
       "  </tbody>\n",
       "</table>\n",
       "</div>"
      ],
      "text/plain": [
       "                        period\n",
       "count                       41\n",
       "mean    4 days 01:12:12.039146\n",
       "std     4 days 08:48:45.188493\n",
       "min     0 days 01:46:15.252000\n",
       "25%     0 days 19:56:06.126000\n",
       "50%     1 days 23:46:49.863000\n",
       "75%     7 days 00:10:53.409000\n",
       "max    17 days 22:38:20.255000"
      ]
     },
     "execution_count": 552,
     "metadata": {},
     "output_type": "execute_result"
    }
   ],
   "source": [
    "m_best_logger_scanning.loc[m_best_logger_scanning['period'] >= limit].describe()"
   ]
  },
  {
   "cell_type": "markdown",
   "metadata": {},
   "source": [
    "### Schenker AG – Corporate Head Office"
   ]
  },
  {
   "cell_type": "code",
   "execution_count": 553,
   "metadata": {},
   "outputs": [],
   "source": [
    "schenker = loggers_teams_scanevents.loc[loggers_teams_scanevents['team_name'] =='Schenker AG – Corporate Head Office'].sort_values(by = ['scanned_at'])"
   ]
  },
  {
   "cell_type": "code",
   "execution_count": 554,
   "metadata": {},
   "outputs": [],
   "source": [
    "schenker_scanning = (schenker['scanned_at']-schenker['scanned_at'].shift()).fillna(pd.Timedelta('0 days'))"
   ]
  },
  {
   "cell_type": "markdown",
   "metadata": {},
   "source": [
    "##### How Frequently Schenker AG Scans One of Its Loggers"
   ]
  },
  {
   "cell_type": "code",
   "execution_count": 754,
   "metadata": {},
   "outputs": [],
   "source": [
    "schenker_period = schenker_scanning.to_frame().rename(columns = {'scanned_at':'period'})"
   ]
  },
  {
   "cell_type": "code",
   "execution_count": 755,
   "metadata": {},
   "outputs": [],
   "source": [
    "schenker_period = schenker_period.loc[schenker_period['period'] > pd.Timedelta('0 days 00:00:01')]"
   ]
  },
  {
   "cell_type": "code",
   "execution_count": 756,
   "metadata": {},
   "outputs": [
    {
     "data": {
      "text/html": [
       "<div>\n",
       "<style scoped>\n",
       "    .dataframe tbody tr th:only-of-type {\n",
       "        vertical-align: middle;\n",
       "    }\n",
       "\n",
       "    .dataframe tbody tr th {\n",
       "        vertical-align: top;\n",
       "    }\n",
       "\n",
       "    .dataframe thead th {\n",
       "        text-align: right;\n",
       "    }\n",
       "</style>\n",
       "<table border=\"1\" class=\"dataframe\">\n",
       "  <thead>\n",
       "    <tr style=\"text-align: right;\">\n",
       "      <th></th>\n",
       "      <th>period</th>\n",
       "    </tr>\n",
       "  </thead>\n",
       "  <tbody>\n",
       "    <tr>\n",
       "      <th>count</th>\n",
       "      <td>237</td>\n",
       "    </tr>\n",
       "    <tr>\n",
       "      <th>mean</th>\n",
       "      <td>0 days 19:50:52.707907</td>\n",
       "    </tr>\n",
       "    <tr>\n",
       "      <th>std</th>\n",
       "      <td>2 days 11:14:08.497389</td>\n",
       "    </tr>\n",
       "    <tr>\n",
       "      <th>min</th>\n",
       "      <td>0 days 00:00:03.662000</td>\n",
       "    </tr>\n",
       "    <tr>\n",
       "      <th>25%</th>\n",
       "      <td>0 days 00:00:22.008000</td>\n",
       "    </tr>\n",
       "    <tr>\n",
       "      <th>50%</th>\n",
       "      <td>0 days 00:03:57.834000</td>\n",
       "    </tr>\n",
       "    <tr>\n",
       "      <th>75%</th>\n",
       "      <td>0 days 03:19:36.362000</td>\n",
       "    </tr>\n",
       "    <tr>\n",
       "      <th>max</th>\n",
       "      <td>23 days 19:57:00.939000</td>\n",
       "    </tr>\n",
       "  </tbody>\n",
       "</table>\n",
       "</div>"
      ],
      "text/plain": [
       "                        period\n",
       "count                      237\n",
       "mean    0 days 19:50:52.707907\n",
       "std     2 days 11:14:08.497389\n",
       "min     0 days 00:00:03.662000\n",
       "25%     0 days 00:00:22.008000\n",
       "50%     0 days 00:03:57.834000\n",
       "75%     0 days 03:19:36.362000\n",
       "max    23 days 19:57:00.939000"
      ]
     },
     "execution_count": 756,
     "metadata": {},
     "output_type": "execute_result"
    }
   ],
   "source": [
    "schenker_period.describe()"
   ]
  },
  {
   "cell_type": "markdown",
   "metadata": {},
   "source": [
    "##### How frequently Schenker AG Scans Its Most Scanned Logger"
   ]
  },
  {
   "cell_type": "code",
   "execution_count": 556,
   "metadata": {},
   "outputs": [],
   "source": [
    "s_best_logger_id = schenker['logger_id'].value_counts().index[0]\n",
    "s_best_logger = schenker.loc[schenker['logger_id'] == s_best_logger_id]\n",
    "s_best_logger_scanning = (s_best_logger['scanned_at']-s_best_logger['scanned_at'].shift()).fillna(pd.Timedelta('0 days'))"
   ]
  },
  {
   "cell_type": "code",
   "execution_count": 557,
   "metadata": {},
   "outputs": [],
   "source": [
    "s_best_logger_scanning = s_best_logger_scanning.to_frame().rename(columns = {'scanned_at':'period'})"
   ]
  },
  {
   "cell_type": "code",
   "execution_count": 558,
   "metadata": {},
   "outputs": [
    {
     "data": {
      "text/html": [
       "<div>\n",
       "<style scoped>\n",
       "    .dataframe tbody tr th:only-of-type {\n",
       "        vertical-align: middle;\n",
       "    }\n",
       "\n",
       "    .dataframe tbody tr th {\n",
       "        vertical-align: top;\n",
       "    }\n",
       "\n",
       "    .dataframe thead th {\n",
       "        text-align: right;\n",
       "    }\n",
       "</style>\n",
       "<table border=\"1\" class=\"dataframe\">\n",
       "  <thead>\n",
       "    <tr style=\"text-align: right;\">\n",
       "      <th></th>\n",
       "      <th>period</th>\n",
       "    </tr>\n",
       "  </thead>\n",
       "  <tbody>\n",
       "    <tr>\n",
       "      <th>count</th>\n",
       "      <td>22</td>\n",
       "    </tr>\n",
       "    <tr>\n",
       "      <th>mean</th>\n",
       "      <td>5 days 14:06:01.076136</td>\n",
       "    </tr>\n",
       "    <tr>\n",
       "      <th>std</th>\n",
       "      <td>9 days 23:00:46.627301</td>\n",
       "    </tr>\n",
       "    <tr>\n",
       "      <th>min</th>\n",
       "      <td>0 days 00:06:18.241000</td>\n",
       "    </tr>\n",
       "    <tr>\n",
       "      <th>25%</th>\n",
       "      <td>0 days 00:34:48.798500</td>\n",
       "    </tr>\n",
       "    <tr>\n",
       "      <th>50%</th>\n",
       "      <td>2 days 22:57:58.713000</td>\n",
       "    </tr>\n",
       "    <tr>\n",
       "      <th>75%</th>\n",
       "      <td>7 days 00:20:47.780000</td>\n",
       "    </tr>\n",
       "    <tr>\n",
       "      <th>max</th>\n",
       "      <td>46 days 03:34:50.930000</td>\n",
       "    </tr>\n",
       "  </tbody>\n",
       "</table>\n",
       "</div>"
      ],
      "text/plain": [
       "                        period\n",
       "count                       22\n",
       "mean    5 days 14:06:01.076136\n",
       "std     9 days 23:00:46.627301\n",
       "min     0 days 00:06:18.241000\n",
       "25%     0 days 00:34:48.798500\n",
       "50%     2 days 22:57:58.713000\n",
       "75%     7 days 00:20:47.780000\n",
       "max    46 days 03:34:50.930000"
      ]
     },
     "execution_count": 558,
     "metadata": {},
     "output_type": "execute_result"
    }
   ],
   "source": [
    "s_best_logger_scanning.loc[s_best_logger_scanning['period'] >= limit].describe()"
   ]
  },
  {
   "cell_type": "markdown",
   "metadata": {},
   "source": [
    "# Missions"
   ]
  },
  {
   "cell_type": "markdown",
   "metadata": {},
   "source": [
    "## Missions by Teams"
   ]
  },
  {
   "cell_type": "code",
   "execution_count": 984,
   "metadata": {},
   "outputs": [],
   "source": [
    "missions_teams = loggers_missions_teams['team_name'].value_counts()"
   ]
  },
  {
   "cell_type": "code",
   "execution_count": 985,
   "metadata": {},
   "outputs": [
    {
     "data": {
      "text/html": [
       "<style  type=\"text/css\" >\n",
       "    #T_16a4c32e_a68e_11ea_be4d_acde48001122row0_col0 {\n",
       "            width:  10em;\n",
       "             height:  80%;\n",
       "            background:  linear-gradient(90deg,#d65f5f 100.0%, transparent 100.0%);\n",
       "        }    #T_16a4c32e_a68e_11ea_be4d_acde48001122row1_col0 {\n",
       "            width:  10em;\n",
       "             height:  80%;\n",
       "            background:  linear-gradient(90deg,#d65f5f 57.3%, transparent 57.3%);\n",
       "        }    #T_16a4c32e_a68e_11ea_be4d_acde48001122row2_col0 {\n",
       "            width:  10em;\n",
       "             height:  80%;\n",
       "            background:  linear-gradient(90deg,#d65f5f 32.7%, transparent 32.7%);\n",
       "        }    #T_16a4c32e_a68e_11ea_be4d_acde48001122row3_col0 {\n",
       "            width:  10em;\n",
       "             height:  80%;\n",
       "            background:  linear-gradient(90deg,#d65f5f 30.8%, transparent 30.8%);\n",
       "        }    #T_16a4c32e_a68e_11ea_be4d_acde48001122row4_col0 {\n",
       "            width:  10em;\n",
       "             height:  80%;\n",
       "            background:  linear-gradient(90deg,#d65f5f 22.7%, transparent 22.7%);\n",
       "        }    #T_16a4c32e_a68e_11ea_be4d_acde48001122row5_col0 {\n",
       "            width:  10em;\n",
       "             height:  80%;\n",
       "            background:  linear-gradient(90deg,#d65f5f 19.6%, transparent 19.6%);\n",
       "        }    #T_16a4c32e_a68e_11ea_be4d_acde48001122row6_col0 {\n",
       "            width:  10em;\n",
       "             height:  80%;\n",
       "            background:  linear-gradient(90deg,#d65f5f 15.6%, transparent 15.6%);\n",
       "        }    #T_16a4c32e_a68e_11ea_be4d_acde48001122row7_col0 {\n",
       "            width:  10em;\n",
       "             height:  80%;\n",
       "            background:  linear-gradient(90deg,#d65f5f 13.4%, transparent 13.4%);\n",
       "        }    #T_16a4c32e_a68e_11ea_be4d_acde48001122row8_col0 {\n",
       "            width:  10em;\n",
       "             height:  80%;\n",
       "            background:  linear-gradient(90deg,#d65f5f 10.3%, transparent 10.3%);\n",
       "        }    #T_16a4c32e_a68e_11ea_be4d_acde48001122row9_col0 {\n",
       "            width:  10em;\n",
       "             height:  80%;\n",
       "            background:  linear-gradient(90deg,#d65f5f 8.1%, transparent 8.1%);\n",
       "        }    #T_16a4c32e_a68e_11ea_be4d_acde48001122row10_col0 {\n",
       "            width:  10em;\n",
       "             height:  80%;\n",
       "            background:  linear-gradient(90deg,#d65f5f 5.6%, transparent 5.6%);\n",
       "        }    #T_16a4c32e_a68e_11ea_be4d_acde48001122row11_col0 {\n",
       "            width:  10em;\n",
       "             height:  80%;\n",
       "            background:  linear-gradient(90deg,#d65f5f 5.3%, transparent 5.3%);\n",
       "        }    #T_16a4c32e_a68e_11ea_be4d_acde48001122row12_col0 {\n",
       "            width:  10em;\n",
       "             height:  80%;\n",
       "            background:  linear-gradient(90deg,#d65f5f 4.7%, transparent 4.7%);\n",
       "        }    #T_16a4c32e_a68e_11ea_be4d_acde48001122row13_col0 {\n",
       "            width:  10em;\n",
       "             height:  80%;\n",
       "            background:  linear-gradient(90deg,#d65f5f 4.7%, transparent 4.7%);\n",
       "        }    #T_16a4c32e_a68e_11ea_be4d_acde48001122row14_col0 {\n",
       "            width:  10em;\n",
       "             height:  80%;\n",
       "            background:  linear-gradient(90deg,#d65f5f 4.0%, transparent 4.0%);\n",
       "        }    #T_16a4c32e_a68e_11ea_be4d_acde48001122row15_col0 {\n",
       "            width:  10em;\n",
       "             height:  80%;\n",
       "            background:  linear-gradient(90deg,#d65f5f 3.4%, transparent 3.4%);\n",
       "        }    #T_16a4c32e_a68e_11ea_be4d_acde48001122row16_col0 {\n",
       "            width:  10em;\n",
       "             height:  80%;\n",
       "            background:  linear-gradient(90deg,#d65f5f 3.4%, transparent 3.4%);\n",
       "        }    #T_16a4c32e_a68e_11ea_be4d_acde48001122row17_col0 {\n",
       "            width:  10em;\n",
       "             height:  80%;\n",
       "            background:  linear-gradient(90deg,#d65f5f 3.1%, transparent 3.1%);\n",
       "        }    #T_16a4c32e_a68e_11ea_be4d_acde48001122row18_col0 {\n",
       "            width:  10em;\n",
       "             height:  80%;\n",
       "            background:  linear-gradient(90deg,#d65f5f 2.8%, transparent 2.8%);\n",
       "        }    #T_16a4c32e_a68e_11ea_be4d_acde48001122row19_col0 {\n",
       "            width:  10em;\n",
       "             height:  80%;\n",
       "            background:  linear-gradient(90deg,#d65f5f 2.8%, transparent 2.8%);\n",
       "        }    #T_16a4c32e_a68e_11ea_be4d_acde48001122row20_col0 {\n",
       "            width:  10em;\n",
       "             height:  80%;\n",
       "            background:  linear-gradient(90deg,#d65f5f 2.8%, transparent 2.8%);\n",
       "        }    #T_16a4c32e_a68e_11ea_be4d_acde48001122row21_col0 {\n",
       "            width:  10em;\n",
       "             height:  80%;\n",
       "            background:  linear-gradient(90deg,#d65f5f 2.2%, transparent 2.2%);\n",
       "        }    #T_16a4c32e_a68e_11ea_be4d_acde48001122row22_col0 {\n",
       "            width:  10em;\n",
       "             height:  80%;\n",
       "            background:  linear-gradient(90deg,#d65f5f 1.9%, transparent 1.9%);\n",
       "        }    #T_16a4c32e_a68e_11ea_be4d_acde48001122row23_col0 {\n",
       "            width:  10em;\n",
       "             height:  80%;\n",
       "            background:  linear-gradient(90deg,#d65f5f 1.9%, transparent 1.9%);\n",
       "        }    #T_16a4c32e_a68e_11ea_be4d_acde48001122row24_col0 {\n",
       "            width:  10em;\n",
       "             height:  80%;\n",
       "            background:  linear-gradient(90deg,#d65f5f 1.9%, transparent 1.9%);\n",
       "        }    #T_16a4c32e_a68e_11ea_be4d_acde48001122row25_col0 {\n",
       "            width:  10em;\n",
       "             height:  80%;\n",
       "            background:  linear-gradient(90deg,#d65f5f 1.6%, transparent 1.6%);\n",
       "        }    #T_16a4c32e_a68e_11ea_be4d_acde48001122row26_col0 {\n",
       "            width:  10em;\n",
       "             height:  80%;\n",
       "            background:  linear-gradient(90deg,#d65f5f 0.9%, transparent 0.9%);\n",
       "        }    #T_16a4c32e_a68e_11ea_be4d_acde48001122row27_col0 {\n",
       "            width:  10em;\n",
       "             height:  80%;\n",
       "            background:  linear-gradient(90deg,#d65f5f 0.9%, transparent 0.9%);\n",
       "        }    #T_16a4c32e_a68e_11ea_be4d_acde48001122row28_col0 {\n",
       "            width:  10em;\n",
       "             height:  80%;\n",
       "            background:  linear-gradient(90deg,#d65f5f 0.9%, transparent 0.9%);\n",
       "        }    #T_16a4c32e_a68e_11ea_be4d_acde48001122row29_col0 {\n",
       "            width:  10em;\n",
       "             height:  80%;\n",
       "            background:  linear-gradient(90deg,#d65f5f 0.9%, transparent 0.9%);\n",
       "        }    #T_16a4c32e_a68e_11ea_be4d_acde48001122row30_col0 {\n",
       "            width:  10em;\n",
       "             height:  80%;\n",
       "            background:  linear-gradient(90deg,#d65f5f 0.3%, transparent 0.3%);\n",
       "        }    #T_16a4c32e_a68e_11ea_be4d_acde48001122row31_col0 {\n",
       "            width:  10em;\n",
       "             height:  80%;\n",
       "            background:  linear-gradient(90deg,#d65f5f 0.3%, transparent 0.3%);\n",
       "        }    #T_16a4c32e_a68e_11ea_be4d_acde48001122row32_col0 {\n",
       "            width:  10em;\n",
       "             height:  80%;\n",
       "            background:  linear-gradient(90deg,#d65f5f 0.3%, transparent 0.3%);\n",
       "        }    #T_16a4c32e_a68e_11ea_be4d_acde48001122row33_col0 {\n",
       "            width:  10em;\n",
       "             height:  80%;\n",
       "            background:  linear-gradient(90deg,#d65f5f 0.3%, transparent 0.3%);\n",
       "        }    #T_16a4c32e_a68e_11ea_be4d_acde48001122row34_col0 {\n",
       "            width:  10em;\n",
       "             height:  80%;\n",
       "            background:  linear-gradient(90deg,#d65f5f 0.3%, transparent 0.3%);\n",
       "        }    #T_16a4c32e_a68e_11ea_be4d_acde48001122row35_col0 {\n",
       "            width:  10em;\n",
       "             height:  80%;\n",
       "            background:  linear-gradient(90deg,#d65f5f 0.3%, transparent 0.3%);\n",
       "        }    #T_16a4c32e_a68e_11ea_be4d_acde48001122row36_col0 {\n",
       "            width:  10em;\n",
       "             height:  80%;\n",
       "        }    #T_16a4c32e_a68e_11ea_be4d_acde48001122row37_col0 {\n",
       "            width:  10em;\n",
       "             height:  80%;\n",
       "        }    #T_16a4c32e_a68e_11ea_be4d_acde48001122row38_col0 {\n",
       "            width:  10em;\n",
       "             height:  80%;\n",
       "        }    #T_16a4c32e_a68e_11ea_be4d_acde48001122row39_col0 {\n",
       "            width:  10em;\n",
       "             height:  80%;\n",
       "        }    #T_16a4c32e_a68e_11ea_be4d_acde48001122row40_col0 {\n",
       "            width:  10em;\n",
       "             height:  80%;\n",
       "        }    #T_16a4c32e_a68e_11ea_be4d_acde48001122row41_col0 {\n",
       "            width:  10em;\n",
       "             height:  80%;\n",
       "        }    #T_16a4c32e_a68e_11ea_be4d_acde48001122row42_col0 {\n",
       "            width:  10em;\n",
       "             height:  80%;\n",
       "        }</style><table id=\"T_16a4c32e_a68e_11ea_be4d_acde48001122\" ><thead>    <tr>        <th class=\"blank level0\" ></th>        <th class=\"col_heading level0 col0\" >team_name</th>    </tr></thead><tbody>\n",
       "                <tr>\n",
       "                        <th id=\"T_16a4c32e_a68e_11ea_be4d_acde48001122level0_row0\" class=\"row_heading level0 row0\" >MagnumMedical</th>\n",
       "                        <td id=\"T_16a4c32e_a68e_11ea_be4d_acde48001122row0_col0\" class=\"data row0 col0\" >322</td>\n",
       "            </tr>\n",
       "            <tr>\n",
       "                        <th id=\"T_16a4c32e_a68e_11ea_be4d_acde48001122level0_row1\" class=\"row_heading level0 row1\" >Hoivatiimi</th>\n",
       "                        <td id=\"T_16a4c32e_a68e_11ea_be4d_acde48001122row1_col0\" class=\"data row1 col0\" >185</td>\n",
       "            </tr>\n",
       "            <tr>\n",
       "                        <th id=\"T_16a4c32e_a68e_11ea_be4d_acde48001122level0_row2\" class=\"row_heading level0 row2\" >Fredman Perfect Kitchen Oy</th>\n",
       "                        <td id=\"T_16a4c32e_a68e_11ea_be4d_acde48001122row2_col0\" class=\"data row2 col0\" >106</td>\n",
       "            </tr>\n",
       "            <tr>\n",
       "                        <th id=\"T_16a4c32e_a68e_11ea_be4d_acde48001122level0_row3\" class=\"row_heading level0 row3\" >Fresh</th>\n",
       "                        <td id=\"T_16a4c32e_a68e_11ea_be4d_acde48001122row3_col0\" class=\"data row3 col0\" >100</td>\n",
       "            </tr>\n",
       "            <tr>\n",
       "                        <th id=\"T_16a4c32e_a68e_11ea_be4d_acde48001122level0_row4\" class=\"row_heading level0 row4\" >Pielaveden Apteekki</th>\n",
       "                        <td id=\"T_16a4c32e_a68e_11ea_be4d_acde48001122row4_col0\" class=\"data row4 col0\" >74</td>\n",
       "            </tr>\n",
       "            <tr>\n",
       "                        <th id=\"T_16a4c32e_a68e_11ea_be4d_acde48001122level0_row5\" class=\"row_heading level0 row5\" >Gepork</th>\n",
       "                        <td id=\"T_16a4c32e_a68e_11ea_be4d_acde48001122row5_col0\" class=\"data row5 col0\" >64</td>\n",
       "            </tr>\n",
       "            <tr>\n",
       "                        <th id=\"T_16a4c32e_a68e_11ea_be4d_acde48001122level0_row6\" class=\"row_heading level0 row6\" >Apteekit</th>\n",
       "                        <td id=\"T_16a4c32e_a68e_11ea_be4d_acde48001122row6_col0\" class=\"data row6 col0\" >51</td>\n",
       "            </tr>\n",
       "            <tr>\n",
       "                        <th id=\"T_16a4c32e_a68e_11ea_be4d_acde48001122level0_row7\" class=\"row_heading level0 row7\" >MAP Medical Technologies Oy</th>\n",
       "                        <td id=\"T_16a4c32e_a68e_11ea_be4d_acde48001122row7_col0\" class=\"data row7 col0\" >44</td>\n",
       "            </tr>\n",
       "            <tr>\n",
       "                        <th id=\"T_16a4c32e_a68e_11ea_be4d_acde48001122level0_row8\" class=\"row_heading level0 row8\" >Budbee</th>\n",
       "                        <td id=\"T_16a4c32e_a68e_11ea_be4d_acde48001122row8_col0\" class=\"data row8 col0\" >34</td>\n",
       "            </tr>\n",
       "            <tr>\n",
       "                        <th id=\"T_16a4c32e_a68e_11ea_be4d_acde48001122level0_row9\" class=\"row_heading level0 row9\" >Medifon</th>\n",
       "                        <td id=\"T_16a4c32e_a68e_11ea_be4d_acde48001122row9_col0\" class=\"data row9 col0\" >27</td>\n",
       "            </tr>\n",
       "            <tr>\n",
       "                        <th id=\"T_16a4c32e_a68e_11ea_be4d_acde48001122level0_row10\" class=\"row_heading level0 row10\" >MaxiTrack</th>\n",
       "                        <td id=\"T_16a4c32e_a68e_11ea_be4d_acde48001122row10_col0\" class=\"data row10 col0\" >19</td>\n",
       "            </tr>\n",
       "            <tr>\n",
       "                        <th id=\"T_16a4c32e_a68e_11ea_be4d_acde48001122level0_row11\" class=\"row_heading level0 row11\" >Cold Chain</th>\n",
       "                        <td id=\"T_16a4c32e_a68e_11ea_be4d_acde48001122row11_col0\" class=\"data row11 col0\" >18</td>\n",
       "            </tr>\n",
       "            <tr>\n",
       "                        <th id=\"T_16a4c32e_a68e_11ea_be4d_acde48001122level0_row12\" class=\"row_heading level0 row12\" >NiGK</th>\n",
       "                        <td id=\"T_16a4c32e_a68e_11ea_be4d_acde48001122row12_col0\" class=\"data row12 col0\" >16</td>\n",
       "            </tr>\n",
       "            <tr>\n",
       "                        <th id=\"T_16a4c32e_a68e_11ea_be4d_acde48001122level0_row13\" class=\"row_heading level0 row13\" >Kuusamon apteekki</th>\n",
       "                        <td id=\"T_16a4c32e_a68e_11ea_be4d_acde48001122row13_col0\" class=\"data row13 col0\" >16</td>\n",
       "            </tr>\n",
       "            <tr>\n",
       "                        <th id=\"T_16a4c32e_a68e_11ea_be4d_acde48001122level0_row14\" class=\"row_heading level0 row14\" >Kuopion ToriApteekki</th>\n",
       "                        <td id=\"T_16a4c32e_a68e_11ea_be4d_acde48001122row14_col0\" class=\"data row14 col0\" >14</td>\n",
       "            </tr>\n",
       "            <tr>\n",
       "                        <th id=\"T_16a4c32e_a68e_11ea_be4d_acde48001122level0_row15\" class=\"row_heading level0 row15\" >HUS LOGISTIIKKA 2019</th>\n",
       "                        <td id=\"T_16a4c32e_a68e_11ea_be4d_acde48001122row15_col0\" class=\"data row15 col0\" >12</td>\n",
       "            </tr>\n",
       "            <tr>\n",
       "                        <th id=\"T_16a4c32e_a68e_11ea_be4d_acde48001122level0_row16\" class=\"row_heading level0 row16\" >Loggs Oy</th>\n",
       "                        <td id=\"T_16a4c32e_a68e_11ea_be4d_acde48001122row16_col0\" class=\"data row16 col0\" >12</td>\n",
       "            </tr>\n",
       "            <tr>\n",
       "                        <th id=\"T_16a4c32e_a68e_11ea_be4d_acde48001122level0_row17\" class=\"row_heading level0 row17\" >Lawtons</th>\n",
       "                        <td id=\"T_16a4c32e_a68e_11ea_be4d_acde48001122row17_col0\" class=\"data row17 col0\" >11</td>\n",
       "            </tr>\n",
       "            <tr>\n",
       "                        <th id=\"T_16a4c32e_a68e_11ea_be4d_acde48001122level0_row18\" class=\"row_heading level0 row18\" >Juhala</th>\n",
       "                        <td id=\"T_16a4c32e_a68e_11ea_be4d_acde48001122row18_col0\" class=\"data row18 col0\" >10</td>\n",
       "            </tr>\n",
       "            <tr>\n",
       "                        <th id=\"T_16a4c32e_a68e_11ea_be4d_acde48001122level0_row19\" class=\"row_heading level0 row19\" >Mymetics</th>\n",
       "                        <td id=\"T_16a4c32e_a68e_11ea_be4d_acde48001122row19_col0\" class=\"data row19 col0\" >10</td>\n",
       "            </tr>\n",
       "            <tr>\n",
       "                        <th id=\"T_16a4c32e_a68e_11ea_be4d_acde48001122level0_row20\" class=\"row_heading level0 row20\" >Aoporphan</th>\n",
       "                        <td id=\"T_16a4c32e_a68e_11ea_be4d_acde48001122row20_col0\" class=\"data row20 col0\" >10</td>\n",
       "            </tr>\n",
       "            <tr>\n",
       "                        <th id=\"T_16a4c32e_a68e_11ea_be4d_acde48001122level0_row21\" class=\"row_heading level0 row21\" >Pharmados</th>\n",
       "                        <td id=\"T_16a4c32e_a68e_11ea_be4d_acde48001122row21_col0\" class=\"data row21 col0\" >8</td>\n",
       "            </tr>\n",
       "            <tr>\n",
       "                        <th id=\"T_16a4c32e_a68e_11ea_be4d_acde48001122level0_row22\" class=\"row_heading level0 row22\" >APAC</th>\n",
       "                        <td id=\"T_16a4c32e_a68e_11ea_be4d_acde48001122row22_col0\" class=\"data row22 col0\" >7</td>\n",
       "            </tr>\n",
       "            <tr>\n",
       "                        <th id=\"T_16a4c32e_a68e_11ea_be4d_acde48001122level0_row23\" class=\"row_heading level0 row23\" >World Courier Australia</th>\n",
       "                        <td id=\"T_16a4c32e_a68e_11ea_be4d_acde48001122row23_col0\" class=\"data row23 col0\" >7</td>\n",
       "            </tr>\n",
       "            <tr>\n",
       "                        <th id=\"T_16a4c32e_a68e_11ea_be4d_acde48001122level0_row24\" class=\"row_heading level0 row24\" >ABB Oy Distribution Solution Vaasa</th>\n",
       "                        <td id=\"T_16a4c32e_a68e_11ea_be4d_acde48001122row24_col0\" class=\"data row24 col0\" >7</td>\n",
       "            </tr>\n",
       "            <tr>\n",
       "                        <th id=\"T_16a4c32e_a68e_11ea_be4d_acde48001122level0_row25\" class=\"row_heading level0 row25\" >Lehtikankaanapteekki</th>\n",
       "                        <td id=\"T_16a4c32e_a68e_11ea_be4d_acde48001122row25_col0\" class=\"data row25 col0\" >6</td>\n",
       "            </tr>\n",
       "            <tr>\n",
       "                        <th id=\"T_16a4c32e_a68e_11ea_be4d_acde48001122level0_row26\" class=\"row_heading level0 row26\" >Worldcourier</th>\n",
       "                        <td id=\"T_16a4c32e_a68e_11ea_be4d_acde48001122row26_col0\" class=\"data row26 col0\" >4</td>\n",
       "            </tr>\n",
       "            <tr>\n",
       "                        <th id=\"T_16a4c32e_a68e_11ea_be4d_acde48001122level0_row27\" class=\"row_heading level0 row27\" >Tolsys</th>\n",
       "                        <td id=\"T_16a4c32e_a68e_11ea_be4d_acde48001122row27_col0\" class=\"data row27 col0\" >4</td>\n",
       "            </tr>\n",
       "            <tr>\n",
       "                        <th id=\"T_16a4c32e_a68e_11ea_be4d_acde48001122level0_row28\" class=\"row_heading level0 row28\" >Siilinapteekki</th>\n",
       "                        <td id=\"T_16a4c32e_a68e_11ea_be4d_acde48001122row28_col0\" class=\"data row28 col0\" >4</td>\n",
       "            </tr>\n",
       "            <tr>\n",
       "                        <th id=\"T_16a4c32e_a68e_11ea_be4d_acde48001122level0_row29\" class=\"row_heading level0 row29\" >Vetimpex</th>\n",
       "                        <td id=\"T_16a4c32e_a68e_11ea_be4d_acde48001122row29_col0\" class=\"data row29 col0\" >4</td>\n",
       "            </tr>\n",
       "            <tr>\n",
       "                        <th id=\"T_16a4c32e_a68e_11ea_be4d_acde48001122level0_row30\" class=\"row_heading level0 row30\" >Illingcompany</th>\n",
       "                        <td id=\"T_16a4c32e_a68e_11ea_be4d_acde48001122row30_col0\" class=\"data row30 col0\" >2</td>\n",
       "            </tr>\n",
       "            <tr>\n",
       "                        <th id=\"T_16a4c32e_a68e_11ea_be4d_acde48001122level0_row31\" class=\"row_heading level0 row31\" >Vesannon aptrekki</th>\n",
       "                        <td id=\"T_16a4c32e_a68e_11ea_be4d_acde48001122row31_col0\" class=\"data row31 col0\" >2</td>\n",
       "            </tr>\n",
       "            <tr>\n",
       "                        <th id=\"T_16a4c32e_a68e_11ea_be4d_acde48001122level0_row32\" class=\"row_heading level0 row32\" >Logmore</th>\n",
       "                        <td id=\"T_16a4c32e_a68e_11ea_be4d_acde48001122row32_col0\" class=\"data row32 col0\" >2</td>\n",
       "            </tr>\n",
       "            <tr>\n",
       "                        <th id=\"T_16a4c32e_a68e_11ea_be4d_acde48001122level0_row33\" class=\"row_heading level0 row33\" >Dbschenker</th>\n",
       "                        <td id=\"T_16a4c32e_a68e_11ea_be4d_acde48001122row33_col0\" class=\"data row33 col0\" >2</td>\n",
       "            </tr>\n",
       "            <tr>\n",
       "                        <th id=\"T_16a4c32e_a68e_11ea_be4d_acde48001122level0_row34\" class=\"row_heading level0 row34\" >Apobegijn_Logmore</th>\n",
       "                        <td id=\"T_16a4c32e_a68e_11ea_be4d_acde48001122row34_col0\" class=\"data row34 col0\" >2</td>\n",
       "            </tr>\n",
       "            <tr>\n",
       "                        <th id=\"T_16a4c32e_a68e_11ea_be4d_acde48001122level0_row35\" class=\"row_heading level0 row35\" >Pirkkalan apteekki</th>\n",
       "                        <td id=\"T_16a4c32e_a68e_11ea_be4d_acde48001122row35_col0\" class=\"data row35 col0\" >2</td>\n",
       "            </tr>\n",
       "            <tr>\n",
       "                        <th id=\"T_16a4c32e_a68e_11ea_be4d_acde48001122level0_row36\" class=\"row_heading level0 row36\" >Valiojns</th>\n",
       "                        <td id=\"T_16a4c32e_a68e_11ea_be4d_acde48001122row36_col0\" class=\"data row36 col0\" >1</td>\n",
       "            </tr>\n",
       "            <tr>\n",
       "                        <th id=\"T_16a4c32e_a68e_11ea_be4d_acde48001122level0_row37\" class=\"row_heading level0 row37\" >Wicker</th>\n",
       "                        <td id=\"T_16a4c32e_a68e_11ea_be4d_acde48001122row37_col0\" class=\"data row37 col0\" >1</td>\n",
       "            </tr>\n",
       "            <tr>\n",
       "                        <th id=\"T_16a4c32e_a68e_11ea_be4d_acde48001122level0_row38\" class=\"row_heading level0 row38\" >Korkeasaaren eläintarha, Kirsi Pynnonen</th>\n",
       "                        <td id=\"T_16a4c32e_a68e_11ea_be4d_acde48001122row38_col0\" class=\"data row38 col0\" >1</td>\n",
       "            </tr>\n",
       "            <tr>\n",
       "                        <th id=\"T_16a4c32e_a68e_11ea_be4d_acde48001122level0_row39\" class=\"row_heading level0 row39\" >Masuda Global</th>\n",
       "                        <td id=\"T_16a4c32e_a68e_11ea_be4d_acde48001122row39_col0\" class=\"data row39 col0\" >1</td>\n",
       "            </tr>\n",
       "            <tr>\n",
       "                        <th id=\"T_16a4c32e_a68e_11ea_be4d_acde48001122level0_row40\" class=\"row_heading level0 row40\" >DHL Smart sensor</th>\n",
       "                        <td id=\"T_16a4c32e_a68e_11ea_be4d_acde48001122row40_col0\" class=\"data row40 col0\" >1</td>\n",
       "            </tr>\n",
       "            <tr>\n",
       "                        <th id=\"T_16a4c32e_a68e_11ea_be4d_acde48001122level0_row41\" class=\"row_heading level0 row41\" >Upm</th>\n",
       "                        <td id=\"T_16a4c32e_a68e_11ea_be4d_acde48001122row41_col0\" class=\"data row41 col0\" >1</td>\n",
       "            </tr>\n",
       "            <tr>\n",
       "                        <th id=\"T_16a4c32e_a68e_11ea_be4d_acde48001122level0_row42\" class=\"row_heading level0 row42\" >Fazer Tuotantokeittiö</th>\n",
       "                        <td id=\"T_16a4c32e_a68e_11ea_be4d_acde48001122row42_col0\" class=\"data row42 col0\" >1</td>\n",
       "            </tr>\n",
       "    </tbody></table>"
      ],
      "text/plain": [
       "<pandas.io.formats.style.Styler at 0x1c8e27eda0>"
      ]
     },
     "execution_count": 985,
     "metadata": {},
     "output_type": "execute_result"
    }
   ],
   "source": [
    "missions_teams.to_frame().style.bar()"
   ]
  },
  {
   "cell_type": "markdown",
   "metadata": {},
   "source": [
    "## Mission Duration Statistics"
   ]
  },
  {
   "cell_type": "code",
   "execution_count": 645,
   "metadata": {},
   "outputs": [],
   "source": [
    "mission_durations = loggers_missions.drop_duplicates(subset = 'mission_id')"
   ]
  },
  {
   "cell_type": "code",
   "execution_count": 647,
   "metadata": {},
   "outputs": [
    {
     "data": {
      "text/plain": [
       "count    1139.000000\n",
       "mean      221.979969\n",
       "std       444.398766\n",
       "min         0.166983\n",
       "25%        16.956967\n",
       "50%       143.349579\n",
       "75%       263.471179\n",
       "max      5207.799252\n",
       "Name: mission_duration_in_hours, dtype: float64"
      ]
     },
     "execution_count": 647,
     "metadata": {},
     "output_type": "execute_result"
    }
   ],
   "source": [
    "mission_durations['mission_duration_in_hours'].describe()"
   ]
  },
  {
   "cell_type": "code",
   "execution_count": 759,
   "metadata": {
    "scrolled": false
   },
   "outputs": [
    {
     "data": {
      "text/plain": [
       "<matplotlib.lines.Line2D at 0x1a23c664a8>"
      ]
     },
     "execution_count": 759,
     "metadata": {},
     "output_type": "execute_result"
    },
    {
     "data": {
      "image/png": "[encoded data removed]",
      "text/plain": [
       "<Figure size 576x720 with 1 Axes>"
      ]
     },
     "metadata": {},
     "output_type": "display_data"
    }
   ],
   "source": [
    "sns.set(rc={'figure.figsize':(8,10)})\n",
    "missions_den_plot = sns.distplot(mission_durations['mission_duration_in_hours'], kde=True, bins=50)\n",
    "plt.title(\"Density of Missions' Duration\")\n",
    "missions_den_plot.set(xlabel='Duration (hours)', ylabel='Density')\n",
    "missions_den_plot.axvline(mission_durations['mission_duration_in_hours'].mean(), color=\"red\")"
   ]
  },
  {
   "cell_type": "code",
   "execution_count": 844,
   "metadata": {},
   "outputs": [
    {
     "data": {
      "image/png": "[encoded data removed]",
      "text/plain": [
       "<Figure size 720x720 with 1 Axes>"
      ]
     },
     "metadata": {},
     "output_type": "display_data"
    }
   ],
   "source": [
    "fig, ax = plt.subplots(figsize=(10,10))\n",
    "ax.hist(mission_durations['mission_duration_in_hours'], bins=50, color=\"skyblue\");\n",
    "ax.set_xlabel(\"Mission Duration (hr)\", fontsize=13) \n",
    "ax.set_ylabel(\"Number of Missions\", fontsize=13);\n",
    "ax.axvline(mission_durations['mission_duration_in_hours'].mean(), color=\"red\");\n",
    "ax.text(x=500,y=500, s=\"Mean Duration\", color=\"red\");\n",
    "ax.set_title('Distribution of Mission Durations', fontsize = 15);"
   ]
  },
  {
   "cell_type": "code",
   "execution_count": 864,
   "metadata": {},
   "outputs": [],
   "source": [
    "no_outliers = mission_durations['mission_duration_in_hours'].to_frame()\n",
    "no_outliers = no_outliers.loc[(no_outliers['mission_duration_in_hours'] <= 504) & (no_outliers['mission_duration_in_hours'] >= 1)]"
   ]
  },
  {
   "cell_type": "code",
   "execution_count": 870,
   "metadata": {},
   "outputs": [
    {
     "data": {
      "text/html": [
       "<div>\n",
       "<style scoped>\n",
       "    .dataframe tbody tr th:only-of-type {\n",
       "        vertical-align: middle;\n",
       "    }\n",
       "\n",
       "    .dataframe tbody tr th {\n",
       "        vertical-align: top;\n",
       "    }\n",
       "\n",
       "    .dataframe thead th {\n",
       "        text-align: right;\n",
       "    }\n",
       "</style>\n",
       "<table border=\"1\" class=\"dataframe\">\n",
       "  <thead>\n",
       "    <tr style=\"text-align: right;\">\n",
       "      <th></th>\n",
       "      <th>mission_duration_in_hours</th>\n",
       "    </tr>\n",
       "  </thead>\n",
       "  <tbody>\n",
       "    <tr>\n",
       "      <th>count</th>\n",
       "      <td>890.000000</td>\n",
       "    </tr>\n",
       "    <tr>\n",
       "      <th>mean</th>\n",
       "      <td>157.927047</td>\n",
       "    </tr>\n",
       "    <tr>\n",
       "      <th>std</th>\n",
       "      <td>129.321682</td>\n",
       "    </tr>\n",
       "    <tr>\n",
       "      <th>min</th>\n",
       "      <td>1.008889</td>\n",
       "    </tr>\n",
       "    <tr>\n",
       "      <th>25%</th>\n",
       "      <td>24.294465</td>\n",
       "    </tr>\n",
       "    <tr>\n",
       "      <th>50%</th>\n",
       "      <td>163.124594</td>\n",
       "    </tr>\n",
       "    <tr>\n",
       "      <th>75%</th>\n",
       "      <td>240.985233</td>\n",
       "    </tr>\n",
       "    <tr>\n",
       "      <th>max</th>\n",
       "      <td>503.844474</td>\n",
       "    </tr>\n",
       "  </tbody>\n",
       "</table>\n",
       "</div>"
      ],
      "text/plain": [
       "       mission_duration_in_hours\n",
       "count                 890.000000\n",
       "mean                  157.927047\n",
       "std                   129.321682\n",
       "min                     1.008889\n",
       "25%                    24.294465\n",
       "50%                   163.124594\n",
       "75%                   240.985233\n",
       "max                   503.844474"
      ]
     },
     "execution_count": 870,
     "metadata": {},
     "output_type": "execute_result"
    }
   ],
   "source": [
    "no_outliers.describe()"
   ]
  },
  {
   "cell_type": "code",
   "execution_count": 869,
   "metadata": {
    "scrolled": false
   },
   "outputs": [
    {
     "data": {
      "image/png": "[encoded data removed]",
      "text/plain": [
       "<Figure size 720x720 with 1 Axes>"
      ]
     },
     "metadata": {},
     "output_type": "display_data"
    }
   ],
   "source": [
    "fig, ax = plt.subplots(figsize=(10,10))\n",
    "ax.hist(no_outliers['mission_duration_in_hours'], bins=50, color=\"skyblue\");\n",
    "ax.set_xlabel(\"Mission Duration (hr)\", fontsize=13) \n",
    "ax.set_ylabel(\"Number of Missions\", fontsize=13);\n",
    "ax.axvline(no_outliers['mission_duration_in_hours'].mean(), color=\"red\");\n",
    "ax.text(x=60,y=100, s=\"Mean Duration\", color=\"red\");\n",
    "ax.set_title('Distribution of Mission Durations Between 1 and 504 Hours', fontsize = 15);"
   ]
  },
  {
   "cell_type": "markdown",
   "metadata": {},
   "source": [
    "# Alert Rules"
   ]
  },
  {
   "cell_type": "markdown",
   "metadata": {},
   "source": [
    "## Temperature Limits"
   ]
  },
  {
   "cell_type": "code",
   "execution_count": 892,
   "metadata": {},
   "outputs": [],
   "source": [
    "temp_limit_gt = loggers_alerthits_alertrules.loc[(loggers_alerthits_alertrules['sensor'] == 0) & ((loggers_alerthits_alertrules['method'] == 'gt') |\\\n",
    "                                                (loggers_alerthits_alertrules['method'] == 'gte'))]"
   ]
  },
  {
   "cell_type": "code",
   "execution_count": 908,
   "metadata": {
    "scrolled": false
   },
   "outputs": [
    {
     "data": {
      "text/plain": [
       "count    314788.000000\n",
       "mean         12.411942\n",
       "std           6.823712\n",
       "min         -15.000000\n",
       "25%           7.000000\n",
       "50%           8.000000\n",
       "75%          20.000000\n",
       "max          40.000000\n",
       "Name: limit, dtype: float64"
      ]
     },
     "execution_count": 908,
     "metadata": {},
     "output_type": "execute_result"
    }
   ],
   "source": [
    "temp_limit_gt['limit'].describe()"
   ]
  },
  {
   "cell_type": "code",
   "execution_count": 897,
   "metadata": {},
   "outputs": [],
   "source": [
    "temp_limit_lt = loggers_alerthits_alertrules.loc[(loggers_alerthits_alertrules['sensor'] == 0) & ((loggers_alerthits_alertrules['method'] == 'lt') |\\\n",
    "                                                (loggers_alerthits_alertrules['method'] == 'lte'))]"
   ]
  },
  {
   "cell_type": "code",
   "execution_count": 911,
   "metadata": {},
   "outputs": [
    {
     "data": {
      "text/plain": [
       "count    135841.000000\n",
       "mean         13.261137\n",
       "std           5.656913\n",
       "min         -20.000000\n",
       "25%          15.600000\n",
       "50%          16.000000\n",
       "75%          16.000000\n",
       "max          25.000000\n",
       "Name: limit, dtype: float64"
      ]
     },
     "execution_count": 911,
     "metadata": {},
     "output_type": "execute_result"
    }
   ],
   "source": [
    "temp_limit_lt['limit'].describe()"
   ]
  },
  {
   "cell_type": "markdown",
   "metadata": {},
   "source": [
    "## Shock Limits"
   ]
  },
  {
   "cell_type": "code",
   "execution_count": 926,
   "metadata": {},
   "outputs": [],
   "source": [
    "shock_limit_gt = loggers_alerthits_alertrules.loc[(loggers_alerthits_alertrules['sensor'] == 3) & ((loggers_alerthits_alertrules['method'] == 'gt') |\\\n",
    "                                                (loggers_alerthits_alertrules['method'] == 'gte'))]"
   ]
  },
  {
   "cell_type": "code",
   "execution_count": 927,
   "metadata": {},
   "outputs": [
    {
     "data": {
      "text/plain": [
       "count    81.000000\n",
       "mean      6.012346\n",
       "std       1.145577\n",
       "min       5.000000\n",
       "25%       5.000000\n",
       "50%       5.000000\n",
       "75%       7.000000\n",
       "max      10.000000\n",
       "Name: limit, dtype: float64"
      ]
     },
     "execution_count": 927,
     "metadata": {},
     "output_type": "execute_result"
    }
   ],
   "source": [
    "shock_limit_gt['limit'].describe()"
   ]
  },
  {
   "cell_type": "code",
   "execution_count": 903,
   "metadata": {},
   "outputs": [],
   "source": [
    "shock_limit_lt = loggers_alerthits_alertrules.loc[(loggers_alerthits_alertrules['sensor'] == 3) & ((loggers_alerthits_alertrules['method'] == 'lt') |\\\n",
    "                                                (loggers_alerthits_alertrules['method'] == 'lte'))]"
   ]
  },
  {
   "cell_type": "code",
   "execution_count": 906,
   "metadata": {},
   "outputs": [
    {
     "data": {
      "text/plain": [
       "count    0.0\n",
       "mean     NaN\n",
       "std      NaN\n",
       "min      NaN\n",
       "25%      NaN\n",
       "50%      NaN\n",
       "75%      NaN\n",
       "max      NaN\n",
       "Name: limit, dtype: float64"
      ]
     },
     "execution_count": 906,
     "metadata": {},
     "output_type": "execute_result"
    }
   ],
   "source": [
    "shock_limit_lt['limit'].describe()"
   ]
  },
  {
   "cell_type": "markdown",
   "metadata": {},
   "source": [
    "## Humidity Limits"
   ]
  },
  {
   "cell_type": "code",
   "execution_count": 928,
   "metadata": {},
   "outputs": [],
   "source": [
    "humidity_limit_gt = loggers_alerthits_alertrules.loc[(loggers_alerthits_alertrules['sensor'] == 4) & ((loggers_alerthits_alertrules['method'] == 'gt') |\\\n",
    "                                                (loggers_alerthits_alertrules['method'] == 'gte'))]"
   ]
  },
  {
   "cell_type": "code",
   "execution_count": 929,
   "metadata": {},
   "outputs": [
    {
     "data": {
      "text/plain": [
       "count    1604.000000\n",
       "mean       33.509975\n",
       "std         9.668196\n",
       "min        30.000000\n",
       "25%        30.000000\n",
       "50%        30.000000\n",
       "75%        30.000000\n",
       "max        65.000000\n",
       "Name: limit, dtype: float64"
      ]
     },
     "execution_count": 929,
     "metadata": {},
     "output_type": "execute_result"
    }
   ],
   "source": [
    "humidity_limit_gt['limit'].describe()"
   ]
  },
  {
   "cell_type": "code",
   "execution_count": 930,
   "metadata": {},
   "outputs": [],
   "source": [
    "humidity_limit_lt = loggers_alerthits_alertrules.loc[(loggers_alerthits_alertrules['sensor'] == 4) & ((loggers_alerthits_alertrules['method'] == 'lt') |\\\n",
    "                                                (loggers_alerthits_alertrules['method'] == 'lte'))]"
   ]
  },
  {
   "cell_type": "code",
   "execution_count": 931,
   "metadata": {},
   "outputs": [
    {
     "data": {
      "text/plain": [
       "count    12245.000000\n",
       "mean        24.279298\n",
       "std          8.202381\n",
       "min         20.000000\n",
       "25%         20.000000\n",
       "50%         20.000000\n",
       "75%         20.000000\n",
       "max         40.000000\n",
       "Name: limit, dtype: float64"
      ]
     },
     "execution_count": 931,
     "metadata": {},
     "output_type": "execute_result"
    }
   ],
   "source": [
    "humidity_limit_lt['limit'].describe()"
   ]
  },
  {
   "cell_type": "markdown",
   "metadata": {},
   "source": [
    "## Light Limits"
   ]
  },
  {
   "cell_type": "code",
   "execution_count": 932,
   "metadata": {},
   "outputs": [],
   "source": [
    "light_limit_gt = loggers_alerthits_alertrules.loc[(loggers_alerthits_alertrules['sensor'] == 5) & ((loggers_alerthits_alertrules['method'] == 'gt') |\\\n",
    "                                                (loggers_alerthits_alertrules['method'] == 'gte'))]"
   ]
  },
  {
   "cell_type": "code",
   "execution_count": 933,
   "metadata": {},
   "outputs": [
    {
     "data": {
      "text/plain": [
       "count    2926.000000\n",
       "mean        0.000684\n",
       "std         0.036974\n",
       "min         0.000000\n",
       "25%         0.000000\n",
       "50%         0.000000\n",
       "75%         0.000000\n",
       "max         2.000000\n",
       "Name: limit, dtype: float64"
      ]
     },
     "execution_count": 933,
     "metadata": {},
     "output_type": "execute_result"
    }
   ],
   "source": [
    "light_limit_gt['limit'].describe()"
   ]
  },
  {
   "cell_type": "code",
   "execution_count": 934,
   "metadata": {},
   "outputs": [],
   "source": [
    "light_limit_lt = loggers_alerthits_alertrules.loc[(loggers_alerthits_alertrules['sensor'] == 5) & ((loggers_alerthits_alertrules['method'] == 'lt') |\\\n",
    "                                                (loggers_alerthits_alertrules['method'] == 'lte'))]"
   ]
  },
  {
   "cell_type": "code",
   "execution_count": 935,
   "metadata": {},
   "outputs": [
    {
     "data": {
      "text/plain": [
       "count    561.0\n",
       "mean      20.0\n",
       "std        0.0\n",
       "min       20.0\n",
       "25%       20.0\n",
       "50%       20.0\n",
       "75%       20.0\n",
       "max       20.0\n",
       "Name: limit, dtype: float64"
      ]
     },
     "execution_count": 935,
     "metadata": {},
     "output_type": "execute_result"
    }
   ],
   "source": [
    "light_limit_lt['limit'].describe()"
   ]
  },
  {
   "cell_type": "markdown",
   "metadata": {},
   "source": [
    "# Alert Hits"
   ]
  },
  {
   "cell_type": "markdown",
   "metadata": {},
   "source": [
    "## Number of Violations "
   ]
  },
  {
   "cell_type": "code",
   "execution_count": 888,
   "metadata": {},
   "outputs": [
    {
     "data": {
      "text/plain": [
       "479247"
      ]
     },
     "execution_count": 888,
     "metadata": {},
     "output_type": "execute_result"
    }
   ],
   "source": [
    "len(loggers_alerthits)"
   ]
  },
  {
   "cell_type": "code",
   "execution_count": 991,
   "metadata": {},
   "outputs": [],
   "source": [
    "alert_distribution = loggers_alerthits['sensor'].value_counts().to_frame()\\"
   ]
  },
  {
   "cell_type": "code",
   "execution_count": 992,
   "metadata": {},
   "outputs": [],
   "source": [
    "alert_distribution.index = ['temperature', 'humidity', 'light', 'shock']"
   ]
  },
  {
   "cell_type": "code",
   "execution_count": 993,
   "metadata": {},
   "outputs": [
    {
     "data": {
      "text/html": [
       "<div>\n",
       "<style scoped>\n",
       "    .dataframe tbody tr th:only-of-type {\n",
       "        vertical-align: middle;\n",
       "    }\n",
       "\n",
       "    .dataframe tbody tr th {\n",
       "        vertical-align: top;\n",
       "    }\n",
       "\n",
       "    .dataframe thead th {\n",
       "        text-align: right;\n",
       "    }\n",
       "</style>\n",
       "<table border=\"1\" class=\"dataframe\">\n",
       "  <thead>\n",
       "    <tr style=\"text-align: right;\">\n",
       "      <th></th>\n",
       "      <th>sensor</th>\n",
       "    </tr>\n",
       "  </thead>\n",
       "  <tbody>\n",
       "    <tr>\n",
       "      <th>temperature</th>\n",
       "      <td>461823</td>\n",
       "    </tr>\n",
       "    <tr>\n",
       "      <th>humidity</th>\n",
       "      <td>13849</td>\n",
       "    </tr>\n",
       "    <tr>\n",
       "      <th>light</th>\n",
       "      <td>3487</td>\n",
       "    </tr>\n",
       "    <tr>\n",
       "      <th>shock</th>\n",
       "      <td>88</td>\n",
       "    </tr>\n",
       "  </tbody>\n",
       "</table>\n",
       "</div>"
      ],
      "text/plain": [
       "             sensor\n",
       "temperature  461823\n",
       "humidity      13849\n",
       "light          3487\n",
       "shock            88"
      ]
     },
     "execution_count": 993,
     "metadata": {},
     "output_type": "execute_result"
    }
   ],
   "source": [
    "alert_distribution"
   ]
  },
  {
   "cell_type": "code",
   "execution_count": 995,
   "metadata": {},
   "outputs": [
    {
     "data": {
      "image/png": "[encoded data removed]",
      "text/plain": [
       "<Figure size 576x720 with 1 Axes>"
      ]
     },
     "metadata": {},
     "output_type": "display_data"
    }
   ],
   "source": [
    "fig1, ax1 = plt.subplots()\n",
    "ax1.pie(alert_distribution['sensor'].to_list(), labels=alert_distribution.index.to_list(), autopct='%1.1f%%', shadow=True)\n",
    "ax1.axis('equal')\n",
    "ax1.set(title=\"Distribution of Alerts by Sensor\")\n",
    "plt.show()"
   ]
  },
  {
   "cell_type": "markdown",
   "metadata": {},
   "source": [
    "## Alert Violations by Sensor"
   ]
  },
  {
   "cell_type": "markdown",
   "metadata": {},
   "source": [
    "### Temperature"
   ]
  },
  {
   "cell_type": "code",
   "execution_count": 559,
   "metadata": {},
   "outputs": [],
   "source": [
    "temp_violation = loggers_alerthits.loc[loggers_alerthits['sensor'] == 0]['violation']"
   ]
  },
  {
   "cell_type": "code",
   "execution_count": 560,
   "metadata": {
    "scrolled": true
   },
   "outputs": [
    {
     "data": {
      "text/plain": [
       "count    461747.000000\n",
       "mean          5.144020\n",
       "std           7.937743\n",
       "min         -39.000000\n",
       "25%          -0.800000\n",
       "50%           4.400000\n",
       "75%          12.800000\n",
       "max          41.000000\n",
       "Name: violation, dtype: float64"
      ]
     },
     "execution_count": 560,
     "metadata": {},
     "output_type": "execute_result"
    }
   ],
   "source": [
    "temp_violation.describe()"
   ]
  },
  {
   "cell_type": "code",
   "execution_count": 582,
   "metadata": {
    "scrolled": false
   },
   "outputs": [
    {
     "data": {
      "text/plain": [
       "<matplotlib.lines.Line2D at 0x1e3cf074e0>"
      ]
     },
     "execution_count": 582,
     "metadata": {},
     "output_type": "execute_result"
    },
    {
     "data": {
      "image/png": "[encoded data removed]",
      "text/plain": [
       "<Figure size 576x720 with 1 Axes>"
      ]
     },
     "metadata": {},
     "output_type": "display_data"
    }
   ],
   "source": [
    "sns.set(rc={'figure.figsize':(8,10)})\n",
    "temp_violation_den_plot = sns.distplot(temp_violation, kde=True, bins=50)\n",
    "plt.title('Density of Tempreature Violation')\n",
    "temp_violation_den_plot.set(xlabel='Temperature (C)', ylabel='Density')\n",
    "temp_violation_den_plot.axvline(temp_violation.mean(), color=\"red\")"
   ]
  },
  {
   "cell_type": "code",
   "execution_count": 798,
   "metadata": {},
   "outputs": [
    {
     "data": {
      "image/png": "[encoded data removed]",
      "text/plain": [
       "<Figure size 720x720 with 1 Axes>"
      ]
     },
     "metadata": {},
     "output_type": "display_data"
    }
   ],
   "source": [
    "fig, ax = plt.subplots(figsize=(10,10))\n",
    "ax.hist(temp_violation, bins=30, color=\"lightskyblue\");\n",
    "ax.set_xlabel(\"Temperature Violation (C)\", fontsize=13) \n",
    "ax.set_ylabel(\"Number of Violations\", fontsize=13);\n",
    "ax.axvline(temp_violation.mean(), color=\"red\");\n",
    "ax.text(x=-10,y=75000, s=\"Mean Violation\", color=\"red\");\n",
    "ax.set_title('Distribution of Temperature Violations', fontsize = 15);"
   ]
  },
  {
   "cell_type": "markdown",
   "metadata": {},
   "source": [
    "### Shock"
   ]
  },
  {
   "cell_type": "code",
   "execution_count": 563,
   "metadata": {},
   "outputs": [],
   "source": [
    "shock_violation = loggers_alerthits.loc[loggers_alerthits['sensor'] == 3]['violation']"
   ]
  },
  {
   "cell_type": "code",
   "execution_count": 564,
   "metadata": {},
   "outputs": [
    {
     "data": {
      "text/plain": [
       "count    88.00000\n",
       "mean     11.19125\n",
       "std       7.72108\n",
       "min       0.15000\n",
       "25%       4.06750\n",
       "50%      10.27000\n",
       "75%      19.46750\n",
       "max      22.66000\n",
       "Name: violation, dtype: float64"
      ]
     },
     "execution_count": 564,
     "metadata": {},
     "output_type": "execute_result"
    }
   ],
   "source": [
    "shock_violation.describe()"
   ]
  },
  {
   "cell_type": "code",
   "execution_count": 583,
   "metadata": {},
   "outputs": [
    {
     "data": {
      "text/plain": [
       "<matplotlib.lines.Line2D at 0x1f01dd7550>"
      ]
     },
     "execution_count": 583,
     "metadata": {},
     "output_type": "execute_result"
    },
    {
     "data": {
      "image/png": "[encoded data removed]",
      "text/plain": [
       "<Figure size 576x720 with 1 Axes>"
      ]
     },
     "metadata": {},
     "output_type": "display_data"
    }
   ],
   "source": [
    "sns.set(rc={'figure.figsize':(8,10)})\n",
    "shock_violation_den_plot = sns.distplot(shock_violation, kde=True, bins=50)\n",
    "plt.title('Density of Shock Violation')\n",
    "shock_violation_den_plot.set(xlabel='Shock (g)', ylabel='Density')\n",
    "shock_violation_den_plot.axvline(shock_violation.mean(), color=\"red\")"
   ]
  },
  {
   "cell_type": "code",
   "execution_count": 783,
   "metadata": {},
   "outputs": [
    {
     "data": {
      "image/png": "[encoded data removed]",
      "text/plain": [
       "<Figure size 720x720 with 1 Axes>"
      ]
     },
     "metadata": {},
     "output_type": "display_data"
    }
   ],
   "source": [
    "fig, ax = plt.subplots(figsize=(10,10))\n",
    "ax.hist(shock_violation, bins=30, color=\"lightskyblue\");\n",
    "ax.set_xlabel(\"Shock Violation (g)\", fontsize=13) \n",
    "ax.set_ylabel(\"Number of Violations\", fontsize=13);\n",
    "ax.axvline(shock_violation.mean(), color=\"red\");\n",
    "ax.text(x=7,y=8, s=\"Mean Violation\", color=\"red\");\n",
    "ax.set_title('Distribution of Shock Violations', fontsize = 15);"
   ]
  },
  {
   "cell_type": "markdown",
   "metadata": {},
   "source": [
    "### Humidity"
   ]
  },
  {
   "cell_type": "code",
   "execution_count": 566,
   "metadata": {},
   "outputs": [],
   "source": [
    "hum_violation = loggers_alerthits.loc[loggers_alerthits['sensor'] == 4]['violation']"
   ]
  },
  {
   "cell_type": "code",
   "execution_count": 567,
   "metadata": {},
   "outputs": [
    {
     "data": {
      "text/plain": [
       "count    13849.00000\n",
       "mean        -2.15113\n",
       "std          8.84215\n",
       "min        -19.00000\n",
       "25%         -7.00000\n",
       "50%         -4.00000\n",
       "75%         -1.00000\n",
       "max         70.00000\n",
       "Name: violation, dtype: float64"
      ]
     },
     "execution_count": 567,
     "metadata": {},
     "output_type": "execute_result"
    }
   ],
   "source": [
    "hum_violation.describe()"
   ]
  },
  {
   "cell_type": "code",
   "execution_count": 584,
   "metadata": {},
   "outputs": [
    {
     "data": {
      "text/plain": [
       "<matplotlib.lines.Line2D at 0x1c838b0518>"
      ]
     },
     "execution_count": 584,
     "metadata": {},
     "output_type": "execute_result"
    },
    {
     "data": {
      "image/png": "[encoded data removed]",
      "text/plain": [
       "<Figure size 576x720 with 1 Axes>"
      ]
     },
     "metadata": {},
     "output_type": "display_data"
    }
   ],
   "source": [
    "sns.set(rc={'figure.figsize':(8,10)})\n",
    "hum_violation_den_plot = sns.distplot(hum_violation, kde=True, bins= 50)\n",
    "plt.title('Density of Humidity Violation')\n",
    "hum_violation_den_plot.set(xlabel='Humidity (%)', ylabel='Density')\n",
    "hum_violation_den_plot.axvline(hum_violation.mean(), color=\"red\")"
   ]
  },
  {
   "cell_type": "code",
   "execution_count": 801,
   "metadata": {},
   "outputs": [
    {
     "data": {
      "image/png": "[encoded data removed]",
      "text/plain": [
       "<Figure size 720x720 with 1 Axes>"
      ]
     },
     "metadata": {},
     "output_type": "display_data"
    }
   ],
   "source": [
    "fig, ax = plt.subplots(figsize=(10,10))\n",
    "ax.hist(hum_violation, bins=30, color=\"lightskyblue\");\n",
    "ax.set_xlabel(\"Humidity Violation (%)\", fontsize=13) \n",
    "ax.set_ylabel(\"Number of Violations\", fontsize=13);\n",
    "ax.axvline(hum_violation.mean(), color=\"red\");\n",
    "ax.text(x=-20,y=4000, s=\"Mean Violation\", color=\"red\");\n",
    "ax.set_title('Distribution of Humidity Violations', fontsize = 15);"
   ]
  },
  {
   "cell_type": "markdown",
   "metadata": {},
   "source": [
    "### Light"
   ]
  },
  {
   "cell_type": "code",
   "execution_count": 568,
   "metadata": {},
   "outputs": [],
   "source": [
    "light_violation = loggers_alerthits.loc[loggers_alerthits['sensor'] == 5]['violation']"
   ]
  },
  {
   "cell_type": "code",
   "execution_count": 569,
   "metadata": {},
   "outputs": [
    {
     "data": {
      "text/plain": [
       "count    3487.000000\n",
       "mean       -1.237167\n",
       "std        13.545517\n",
       "min       -20.000000\n",
       "25%         1.000000\n",
       "50%         1.000000\n",
       "75%         1.000000\n",
       "max       498.000000\n",
       "Name: violation, dtype: float64"
      ]
     },
     "execution_count": 569,
     "metadata": {},
     "output_type": "execute_result"
    }
   ],
   "source": [
    "light_violation.describe()"
   ]
  },
  {
   "cell_type": "code",
   "execution_count": 586,
   "metadata": {
    "scrolled": false
   },
   "outputs": [
    {
     "data": {
      "text/plain": [
       "<matplotlib.lines.Line2D at 0x1e3cb21b38>"
      ]
     },
     "execution_count": 586,
     "metadata": {},
     "output_type": "execute_result"
    },
    {
     "data": {
      "image/png": "[encoded data removed]",
      "text/plain": [
       "<Figure size 576x720 with 1 Axes>"
      ]
     },
     "metadata": {},
     "output_type": "display_data"
    }
   ],
   "source": [
    "sns.set(rc={'figure.figsize':(8,10)})\n",
    "light_violation_den_plot = sns.distplot(light_violation, kde=True, bins=50)\n",
    "plt.title('Density of Light Violation')\n",
    "light_violation_den_plot.set(xlabel='Light (scale)', ylabel='Density')\n",
    "light_violation_den_plot.axvline(light_violation.mean(), color=\"red\")"
   ]
  },
  {
   "cell_type": "code",
   "execution_count": 805,
   "metadata": {},
   "outputs": [
    {
     "data": {
      "image/png": "[encoded data removed]",
      "text/plain": [
       "<Figure size 720x720 with 1 Axes>"
      ]
     },
     "metadata": {},
     "output_type": "display_data"
    }
   ],
   "source": [
    "fig, ax = plt.subplots(figsize=(10,10))\n",
    "ax.hist(light_violation, bins=30, color=\"lightskyblue\");\n",
    "ax.set_xlabel(\"Light Violation (scale)\", fontsize=13) \n",
    "ax.set_ylabel(\"Number of Violations\", fontsize=13);\n",
    "ax.axvline(light_violation.mean(), color=\"red\");\n",
    "ax.text(x=15,y=2500, s=\"Mean Violation\", color=\"red\");\n",
    "ax.set_title('Distribution of Light Violations', fontsize = 15);"
   ]
  },
  {
   "cell_type": "markdown",
   "metadata": {},
   "source": [
    "## Alert violation by Logger"
   ]
  },
  {
   "cell_type": "code",
   "execution_count": 587,
   "metadata": {},
   "outputs": [],
   "source": [
    "alert_pivot_data = loggers_alerthits.loc[~loggers_alerthits['violation'].isnull()]"
   ]
  },
  {
   "cell_type": "code",
   "execution_count": 588,
   "metadata": {},
   "outputs": [],
   "source": [
    "alert_pivot = pd.pivot_table(alert_pivot_data, values = 'violation', index = 'logger_id', columns = 'sensor', aggfunc=np.mean)"
   ]
  }
 ],
 "metadata": {
  "kernelspec": {
   "display_name": "Python 3",
   "language": "python",
   "name": "python3"
  },
  "language_info": {
   "codemirror_mode": {
    "name": "ipython",
    "version": 3
   },
   "file_extension": ".py",
   "mimetype": "text/x-python",
   "name": "python",
   "nbconvert_exporter": "python",
   "pygments_lexer": "ipython3",
   "version": "3.8.8"
  }
 },
 "nbformat": 4,
 "nbformat_minor": 2
}
