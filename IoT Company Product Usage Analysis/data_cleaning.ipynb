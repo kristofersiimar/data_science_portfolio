{
 "cells": [
  {
   "cell_type": "code",
   "execution_count": 1,
   "metadata": {},
   "outputs": [],
   "source": [
    "import sys\n",
    "import os \n",
    "import pandas as pd\n",
    "import numpy as np\n",
    "import json\n",
    "import collections\n",
    "import datetime as dt\n",
    "import pytz"
   ]
  },
  {
   "cell_type": "markdown",
   "metadata": {},
   "source": [
    "# NOTES\n",
    "Time in use\\\n",
    "Mission started in last 30 days\\\n",
    "Missions have data (time %)\\\n",
    "Active Tags\\\n",
    "Webpage Use\\\n",
    "DELETE - Missions | Scans"
   ]
  },
  {
   "cell_type": "markdown",
   "metadata": {},
   "source": [
    "# Team -> Budbee"
   ]
  },
  {
   "cell_type": "code",
   "execution_count": 2,
   "metadata": {},
   "outputs": [],
   "source": [
    "team_id = 'ObjectId(5e39516344a3f400330cbd79)'\n",
    "#Suomen Talotekniikka Jyväskylä ->'ObjectId(5d71fc4376d1ee2b2c27cf52)'\n",
    "#MagnumMedical ->'ObjectId(5bb30fbf2669ca1a890025ac)'\n",
    "#Budbee ->'ObjectId(5e39516344a3f400330cbd79)'"
   ]
  },
  {
   "cell_type": "markdown",
   "metadata": {},
   "source": [
    "# Data "
   ]
  },
  {
   "cell_type": "code",
   "execution_count": 3,
   "metadata": {},
   "outputs": [],
   "source": [
    "teams = pd.read_csv('../Datasets/teams.csv')"
   ]
  },
  {
   "cell_type": "code",
   "execution_count": 4,
   "metadata": {},
   "outputs": [],
   "source": [
    "missions = pd.read_csv('../Datasets/missions.csv')"
   ]
  },
  {
   "cell_type": "code",
   "execution_count": 5,
   "metadata": {},
   "outputs": [],
   "source": [
    "scans = pd.read_csv('../Datasets/scan_events.csv')"
   ]
  },
  {
   "cell_type": "code",
   "execution_count": 6,
   "metadata": {},
   "outputs": [],
   "source": [
    "loggers = pd.read_csv('../Datasets/loggers.csv')"
   ]
  },
  {
   "cell_type": "code",
   "execution_count": 8,
   "metadata": {},
   "outputs": [],
   "source": [
    "users = pd.read_csv('../Datasets/users.csv')"
   ]
  },
  {
   "cell_type": "code",
   "execution_count": 60,
   "metadata": {
    "scrolled": false
   },
   "outputs": [],
   "source": [
    "#extracting user id\n",
    "def user_extract(data):\n",
    "    if 'user_id' in json.loads(data).keys():\n",
    "        return 'ObjectId(' + list(json.loads(data)['user_id'].values())[0] +')'\n",
    "\n",
    "#extracting teams data from request_logs\n",
    "def team_extract(data):\n",
    "    team_list = json.loads(data)['teams']\n",
    "    clean_list = []\n",
    "    if len(team_list) == 1:\n",
    "        clean_list.append('ObjectId(' + team_list[0]['$oid'] + ')')\n",
    "        return clean_list\n",
    "    elif len(team_list) > 1:\n",
    "        for team in team_list: \n",
    "            clean_list.append('ObjectId(' + team['$oid'] + ')')\n",
    "        return clean_list\n",
    "            \n",
    "#flattening lists of lists from requests.teams\n",
    "def flatten(aList):\n",
    "    t = []\n",
    "    for i in aList:\n",
    "        if not isinstance(i, list):\n",
    "              t.append(i)\n",
    "        else:\n",
    "            t.extend(flatten(i))\n",
    "    return t\n",
    "\n",
    "#extracting if team is in requests.teams\n",
    "def team_check(data):\n",
    "    if team_id in data:\n",
    "        return 1 \n",
    "    else:\n",
    "        return 0\n",
    "    \n",
    "#requests time from now\n",
    "def time_past(time):\n",
    "    return dt.datetime.now().replace(tzinfo = pytz.UTC) - time.replace(tzinfo = pytz.UTC)"
   ]
  },
  {
   "cell_type": "code",
   "execution_count": 10,
   "metadata": {},
   "outputs": [],
   "source": [
    "requests = pd.read_csv('../Datasets/request_logs.csv')\n",
    "requests['user_id'] = requests['user'].apply(user_extract)\n",
    "requests['teams'] = requests['user'].apply(team_extract)"
   ]
  },
  {
   "cell_type": "code",
   "execution_count": 11,
   "metadata": {},
   "outputs": [],
   "source": [
    "requests['the_team'] = requests.loc[~requests['teams'].isnull(), 'teams'].apply(team_check)"
   ]
  },
  {
   "cell_type": "code",
   "execution_count": 12,
   "metadata": {},
   "outputs": [],
   "source": [
    "requests['time'] = pd.to_datetime(requests['time'])"
   ]
  },
  {
   "cell_type": "code",
   "execution_count": 13,
   "metadata": {},
   "outputs": [],
   "source": [
    "team_requests = requests[requests['the_team'] == 1]"
   ]
  },
  {
   "cell_type": "code",
   "execution_count": 14,
   "metadata": {},
   "outputs": [
    {
     "name": "stderr",
     "output_type": "stream",
     "text": [
      "/Users/kristofersiimar/anaconda3/lib/python3.7/site-packages/ipykernel_launcher.py:1: SettingWithCopyWarning: \n",
      "A value is trying to be set on a copy of a slice from a DataFrame.\n",
      "Try using .loc[row_indexer,col_indexer] = value instead\n",
      "\n",
      "See the caveats in the documentation: http://pandas.pydata.org/pandas-docs/stable/indexing.html#indexing-view-versus-copy\n",
      "  \"\"\"Entry point for launching an IPython kernel.\n"
     ]
    }
   ],
   "source": [
    "team_requests['time_past'] = team_requests['time'].apply(time_past)"
   ]
  },
  {
   "cell_type": "markdown",
   "metadata": {},
   "source": [
    "# Merging"
   ]
  },
  {
   "cell_type": "code",
   "execution_count": 20,
   "metadata": {},
   "outputs": [],
   "source": [
    "teams_b = teams.loc[teams['_id'] == team_id]\n",
    "merged = loggers.merge(teams_b, how = 'inner', left_on = 'owner_id', right_on = '_id')\n",
    "merged = merged.rename(columns = {'_id_x':'logger_id', '_id_y':'team_id',\\\n",
    "                                  'created_at_x':'logger_created_at', 'created_at_y':'team_created_at'})\\\n",
    "        .drop(columns = ['owner_id', 'serial', 'model'])"
   ]
  },
  {
   "cell_type": "code",
   "execution_count": 22,
   "metadata": {},
   "outputs": [],
   "source": [
    "merged = merged.merge(missions, how = 'left', on = 'logger_id')\n",
    "merged = merged.drop(columns = ['alert_rule_id', 'updated_at'])\\\n",
    ".rename(columns = {'created_at':'mission_created_at',\\\n",
    "                  'permissions_x':'logger_permissions', 'permissions_y':'mission_permissions'})"
   ]
  },
  {
   "cell_type": "code",
   "execution_count": 24,
   "metadata": {},
   "outputs": [],
   "source": [
    "merged = merged.merge(scans, how = 'left', on = 'logger_id')\n",
    "merged = merged.drop(columns = ['new_data', 'data_count', 'useragent', 'ip', 'name'])\\\n",
    "        .rename(columns = {'_id':'scan_id', 'created_at':'scan_created_at', 'location':'scan_location'})"
   ]
  },
  {
   "cell_type": "code",
   "execution_count": 33,
   "metadata": {},
   "outputs": [],
   "source": [
    "merged['starts_at'] = pd.to_datetime(merged['starts_at'])\n",
    "merged['ends_at'] = pd.to_datetime(merged['ends_at'])\n",
    "merged['logger_created_at'] = pd.to_datetime(merged['logger_created_at'])"
   ]
  },
  {
   "cell_type": "code",
   "execution_count": 36,
   "metadata": {},
   "outputs": [],
   "source": [
    "merged['mission_starts_past'] = merged['starts_at'].apply(time_past)"
   ]
  },
  {
   "cell_type": "markdown",
   "metadata": {},
   "source": [
    "# Calculation"
   ]
  },
  {
   "cell_type": "code",
   "execution_count": 38,
   "metadata": {},
   "outputs": [],
   "source": [
    "def ces(team_id, data, requests):\n",
    "    score = 0 \n",
    "    \n",
    "    mission = len(data.loc[merged['mission_starts_past'] < pd.Timedelta('90 days')]['mission_id'].unique())\n",
    "    active_user = len(requests.loc[requests['time_past'] <= pd.Timedelta('90 days')]['user_id'].unique())\n",
    "    web_request = len(requests.loc[requests['time_past'] <= pd.Timedelta('90 days')]['_id'].unique())\n",
    "\n",
    "    \n",
    "    score += 34*(mission) + (19*scan) + (19*active_user) + (16.5*web_request) + (11.5*logger)\n",
    "    print(('missions: ' + str(mission), 'active users: ' + str(active_user),\\\n",
    "           'web requests: ' + str(web_request)))\n",
    "\n",
    "    \n",
    "    return 'score: ' + str(score)"
   ]
  },
  {
   "cell_type": "code",
   "execution_count": 39,
   "metadata": {},
   "outputs": [
    {
     "name": "stdout",
     "output_type": "stream",
     "text": [
      "('missions: 25', 'active users: 7', 'web requests: 7519')\n"
     ]
    }
   ],
   "source": [
    "ces(team_id, merged, team_requests)"
   ]
  },
  {
   "cell_type": "markdown",
   "metadata": {},
   "source": [
    "# Writing into csv"
   ]
  },
  {
   "cell_type": "code",
   "execution_count": null,
   "metadata": {},
   "outputs": [],
   "source": [
    "requests.to_csv('datasets/Suomen Talotekniikka Jyväskylä_requests.csv', index = False)"
   ]
  },
  {
   "cell_type": "code",
   "execution_count": null,
   "metadata": {},
   "outputs": [],
   "source": [
    "merged.to_csv('datasets/Suomen Talotekniikka Jyväskylä_mergedata.csv', index = False)"
   ]
  }
 ],
 "metadata": {
  "kernelspec": {
   "display_name": "Python 3",
   "language": "python",
   "name": "python3"
  },
  "language_info": {
   "codemirror_mode": {
    "name": "ipython",
    "version": 3
   },
   "file_extension": ".py",
   "mimetype": "text/x-python",
   "name": "python",
   "nbconvert_exporter": "python",
   "pygments_lexer": "ipython3",
   "version": "3.8.8"
  }
 },
 "nbformat": 4,
 "nbformat_minor": 2
}
